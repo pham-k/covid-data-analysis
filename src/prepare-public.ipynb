{
 "cells": [
  {
   "cell_type": "code",
   "execution_count": 45,
   "id": "600c3347",
   "metadata": {},
   "outputs": [],
   "source": [
    "import pandas as pd"
   ]
  },
  {
   "cell_type": "code",
   "execution_count": 46,
   "id": "b02f03e7",
   "metadata": {},
   "outputs": [
    {
     "data": {
      "text/html": [
       "<div>\n",
       "<style scoped>\n",
       "    .dataframe tbody tr th:only-of-type {\n",
       "        vertical-align: middle;\n",
       "    }\n",
       "\n",
       "    .dataframe tbody tr th {\n",
       "        vertical-align: top;\n",
       "    }\n",
       "\n",
       "    .dataframe thead th {\n",
       "        text-align: right;\n",
       "    }\n",
       "</style>\n",
       "<table border=\"1\" class=\"dataframe\">\n",
       "  <thead>\n",
       "    <tr style=\"text-align: right;\">\n",
       "      <th></th>\n",
       "      <th>Họ tên bệnh nhân</th>\n",
       "      <th>Giới tinh</th>\n",
       "      <th>Năm sinh</th>\n",
       "      <th>Quận huyện cư trú</th>\n",
       "      <th>Ngày báo cáo</th>\n",
       "      <th>Gộp ngày xét nghiệm</th>\n",
       "      <th>Mã bệnh nhân</th>\n",
       "      <th>Tên chuỗi</th>\n",
       "    </tr>\n",
       "  </thead>\n",
       "  <tbody>\n",
       "    <tr>\n",
       "      <th>0</th>\n",
       "      <td>TRẦN HƯƠNG GIANG</td>\n",
       "      <td>Nữ</td>\n",
       "      <td>2007.0</td>\n",
       "      <td>12</td>\n",
       "      <td>27/05/2021</td>\n",
       "      <td>27/05/2021</td>\n",
       "      <td>BN6279</td>\n",
       "      <td>Chuỗi liên quan Hội truyền giáo Phục Hưng</td>\n",
       "    </tr>\n",
       "    <tr>\n",
       "      <th>1</th>\n",
       "      <td>TRẦN VIỆT ANH</td>\n",
       "      <td>Nam</td>\n",
       "      <td>2009.0</td>\n",
       "      <td>12</td>\n",
       "      <td>27/05/2021</td>\n",
       "      <td>27/05/2021</td>\n",
       "      <td>BN6280</td>\n",
       "      <td>Chuỗi liên quan Hội truyền giáo Phục Hưng</td>\n",
       "    </tr>\n",
       "    <tr>\n",
       "      <th>2</th>\n",
       "      <td>MAI THỊ HOÀNG PHƯƠNG</td>\n",
       "      <td>Nữ</td>\n",
       "      <td>1988.0</td>\n",
       "      <td>12</td>\n",
       "      <td>27/05/2021</td>\n",
       "      <td>27/05/2021</td>\n",
       "      <td>BN6281</td>\n",
       "      <td>Chuỗi liên quan Hội truyền giáo Phục Hưng</td>\n",
       "    </tr>\n",
       "    <tr>\n",
       "      <th>3</th>\n",
       "      <td>NGUYỄN HOÀNG HÂN</td>\n",
       "      <td>Nam</td>\n",
       "      <td>1991.0</td>\n",
       "      <td>12</td>\n",
       "      <td>27/05/2021</td>\n",
       "      <td>26/05/2021</td>\n",
       "      <td>BN6282</td>\n",
       "      <td>Chuỗi liên quan Hội truyền giáo Phục Hưng</td>\n",
       "    </tr>\n",
       "    <tr>\n",
       "      <th>4</th>\n",
       "      <td>TRẦN HOÀNG NGUYÊN</td>\n",
       "      <td>Nữ</td>\n",
       "      <td>2005.0</td>\n",
       "      <td>12</td>\n",
       "      <td>27/05/2021</td>\n",
       "      <td>26/05/2021</td>\n",
       "      <td>BN6283</td>\n",
       "      <td>Chuỗi liên quan Hội truyền giáo Phục Hưng</td>\n",
       "    </tr>\n",
       "  </tbody>\n",
       "</table>\n",
       "</div>"
      ],
      "text/plain": [
       "       Họ tên bệnh nhân Giới tinh  Năm sinh Quận huyện cư trú Ngày báo cáo  \\\n",
       "0      TRẦN HƯƠNG GIANG        Nữ    2007.0                12   27/05/2021   \n",
       "1         TRẦN VIỆT ANH       Nam    2009.0                12   27/05/2021   \n",
       "2  MAI THỊ HOÀNG PHƯƠNG        Nữ    1988.0                12   27/05/2021   \n",
       "3      NGUYỄN HOÀNG HÂN       Nam    1991.0                12   27/05/2021   \n",
       "4     TRẦN HOÀNG NGUYÊN        Nữ    2005.0                12   27/05/2021   \n",
       "\n",
       "  Gộp ngày xét nghiệm Mã bệnh nhân                                  Tên chuỗi  \n",
       "0          27/05/2021       BN6279  Chuỗi liên quan Hội truyền giáo Phục Hưng  \n",
       "1          27/05/2021       BN6280  Chuỗi liên quan Hội truyền giáo Phục Hưng  \n",
       "2          27/05/2021       BN6281  Chuỗi liên quan Hội truyền giáo Phục Hưng  \n",
       "3          26/05/2021       BN6282  Chuỗi liên quan Hội truyền giáo Phục Hưng  \n",
       "4          26/05/2021       BN6283  Chuỗi liên quan Hội truyền giáo Phục Hưng  "
      ]
     },
     "execution_count": 46,
     "metadata": {},
     "output_type": "execute_result"
    }
   ],
   "source": [
    "df = pd.read_csv('../data/raw/public/public-2021-06-25.csv', sep=';').iloc[:, [16, 18, 17, 37, 12, 97, 14, 2]]\n",
    "df.head()"
   ]
  },
  {
   "cell_type": "code",
   "execution_count": 47,
   "id": "f74a1314",
   "metadata": {},
   "outputs": [],
   "source": [
    "df.rename(\n",
    "    columns={\n",
    "        df.columns[0]: 'name_full',\n",
    "        df.columns[1]: 'sex',\n",
    "        df.columns[2]: 'yob',\n",
    "        df.columns[3]: 'addr_dist',\n",
    "        df.columns[4]: 'date_report',\n",
    "        df.columns[5]: 'date_test',\n",
    "        df.columns[6]: 'id_patient',\n",
    "        df.columns[7]: 'series'\n",
    "    },\n",
    "    inplace=True\n",
    ")"
   ]
  },
  {
   "cell_type": "code",
   "execution_count": 50,
   "id": "c5a1c414",
   "metadata": {},
   "outputs": [
    {
     "data": {
      "text/html": [
       "<div>\n",
       "<style scoped>\n",
       "    .dataframe tbody tr th:only-of-type {\n",
       "        vertical-align: middle;\n",
       "    }\n",
       "\n",
       "    .dataframe tbody tr th {\n",
       "        vertical-align: top;\n",
       "    }\n",
       "\n",
       "    .dataframe thead th {\n",
       "        text-align: right;\n",
       "    }\n",
       "</style>\n",
       "<table border=\"1\" class=\"dataframe\">\n",
       "  <thead>\n",
       "    <tr style=\"text-align: right;\">\n",
       "      <th></th>\n",
       "      <th>name_full</th>\n",
       "      <th>sex</th>\n",
       "      <th>yob</th>\n",
       "      <th>addr_dist</th>\n",
       "      <th>date_report</th>\n",
       "      <th>date_test</th>\n",
       "      <th>id_patient</th>\n",
       "      <th>series</th>\n",
       "    </tr>\n",
       "  </thead>\n",
       "  <tbody>\n",
       "    <tr>\n",
       "      <th>0</th>\n",
       "      <td>TRẦN HƯƠNG GIANG</td>\n",
       "      <td>NỮ</td>\n",
       "      <td>2007.0</td>\n",
       "      <td>12</td>\n",
       "      <td>27/05/2021</td>\n",
       "      <td>27/05/2021</td>\n",
       "      <td>BN6279</td>\n",
       "      <td>CHUỖI LIÊN QUAN HỘI TRUYỀN GIÁO PHỤC HƯNG</td>\n",
       "    </tr>\n",
       "    <tr>\n",
       "      <th>1</th>\n",
       "      <td>TRẦN VIỆT ANH</td>\n",
       "      <td>NAM</td>\n",
       "      <td>2009.0</td>\n",
       "      <td>12</td>\n",
       "      <td>27/05/2021</td>\n",
       "      <td>27/05/2021</td>\n",
       "      <td>BN6280</td>\n",
       "      <td>CHUỖI LIÊN QUAN HỘI TRUYỀN GIÁO PHỤC HƯNG</td>\n",
       "    </tr>\n",
       "    <tr>\n",
       "      <th>2</th>\n",
       "      <td>MAI THỊ HOÀNG PHƯƠNG</td>\n",
       "      <td>NỮ</td>\n",
       "      <td>1988.0</td>\n",
       "      <td>12</td>\n",
       "      <td>27/05/2021</td>\n",
       "      <td>27/05/2021</td>\n",
       "      <td>BN6281</td>\n",
       "      <td>CHUỖI LIÊN QUAN HỘI TRUYỀN GIÁO PHỤC HƯNG</td>\n",
       "    </tr>\n",
       "    <tr>\n",
       "      <th>3</th>\n",
       "      <td>NGUYỄN HOÀNG HÂN</td>\n",
       "      <td>NAM</td>\n",
       "      <td>1991.0</td>\n",
       "      <td>12</td>\n",
       "      <td>27/05/2021</td>\n",
       "      <td>26/05/2021</td>\n",
       "      <td>BN6282</td>\n",
       "      <td>CHUỖI LIÊN QUAN HỘI TRUYỀN GIÁO PHỤC HƯNG</td>\n",
       "    </tr>\n",
       "    <tr>\n",
       "      <th>4</th>\n",
       "      <td>TRẦN HOÀNG NGUYÊN</td>\n",
       "      <td>NỮ</td>\n",
       "      <td>2005.0</td>\n",
       "      <td>12</td>\n",
       "      <td>27/05/2021</td>\n",
       "      <td>26/05/2021</td>\n",
       "      <td>BN6283</td>\n",
       "      <td>CHUỖI LIÊN QUAN HỘI TRUYỀN GIÁO PHỤC HƯNG</td>\n",
       "    </tr>\n",
       "  </tbody>\n",
       "</table>\n",
       "</div>"
      ],
      "text/plain": [
       "              name_full  sex     yob addr_dist date_report   date_test  \\\n",
       "0      TRẦN HƯƠNG GIANG   NỮ  2007.0        12  27/05/2021  27/05/2021   \n",
       "1         TRẦN VIỆT ANH  NAM  2009.0        12  27/05/2021  27/05/2021   \n",
       "2  MAI THỊ HOÀNG PHƯƠNG   NỮ  1988.0        12  27/05/2021  27/05/2021   \n",
       "3      NGUYỄN HOÀNG HÂN  NAM  1991.0        12  27/05/2021  26/05/2021   \n",
       "4     TRẦN HOÀNG NGUYÊN   NỮ  2005.0        12  27/05/2021  26/05/2021   \n",
       "\n",
       "  id_patient                                     series  \n",
       "0     BN6279  CHUỖI LIÊN QUAN HỘI TRUYỀN GIÁO PHỤC HƯNG  \n",
       "1     BN6280  CHUỖI LIÊN QUAN HỘI TRUYỀN GIÁO PHỤC HƯNG  \n",
       "2     BN6281  CHUỖI LIÊN QUAN HỘI TRUYỀN GIÁO PHỤC HƯNG  \n",
       "3     BN6282  CHUỖI LIÊN QUAN HỘI TRUYỀN GIÁO PHỤC HƯNG  \n",
       "4     BN6283  CHUỖI LIÊN QUAN HỘI TRUYỀN GIÁO PHỤC HƯNG  "
      ]
     },
     "execution_count": 50,
     "metadata": {},
     "output_type": "execute_result"
    }
   ],
   "source": [
    "df = df.assign(\n",
    "    name_full = df.name_full.astype('str').str.upper(),\n",
    "    sex = df.sex.astype('str').str.upper(),\n",
    "    series = df.series.astype('str').str.upper(),\n",
    "    addr_dist = df.addr_dist.astype('str').str.upper()\n",
    ")\n",
    "df.head()"
   ]
  },
  {
   "cell_type": "code",
   "execution_count": 60,
   "id": "af183332",
   "metadata": {},
   "outputs": [
    {
     "data": {
      "text/plain": [
       "name_full       sex  yob     addr_dist\n",
       "NGUYỄN TUẤN VŨ  NAM  1990.0  01           2\n",
       "dtype: int64"
      ]
     },
     "execution_count": 60,
     "metadata": {},
     "output_type": "execute_result"
    }
   ],
   "source": [
    "dup = df.value_counts(subset=['name_full', 'sex', 'yob', 'addr_dist', 'date_report'])\n",
    "# dup = df.value_counts(subset=['name_full', 'sex', 'yob', 'addr_dist'])\n",
    "dup[dup > 1]"
   ]
  },
  {
   "cell_type": "code",
   "execution_count": 55,
   "id": "4ffc4732",
   "metadata": {},
   "outputs": [],
   "source": [
    "df = df.drop_duplicates(\n",
    "    subset=['name_full', 'sex', 'yob', 'addr_dist', 'date_report']\n",
    ")"
   ]
  },
  {
   "cell_type": "code",
   "execution_count": 62,
   "id": "7dc997ae",
   "metadata": {},
   "outputs": [
    {
     "data": {
      "text/plain": [
       "1997.0    95\n",
       "1991.0    88\n",
       "1993.0    85\n",
       "1995.0    77\n",
       "1994.0    71\n",
       "          ..\n",
       "2021.0     2\n",
       "1936.0     2\n",
       "1945.0     1\n",
       "1930.0     1\n",
       "1938.0     1\n",
       "Name: yob, Length: 90, dtype: int64"
      ]
     },
     "execution_count": 62,
     "metadata": {},
     "output_type": "execute_result"
    }
   ],
   "source": [
    "# df.yob.value_counts()"
   ]
  },
  {
   "cell_type": "code",
   "execution_count": 61,
   "id": "30b80b3b",
   "metadata": {},
   "outputs": [],
   "source": [
    "df.to_csv('../data/processed/public.csv')"
   ]
  }
 ],
 "metadata": {
  "kernelspec": {
   "display_name": "Python 3",
   "language": "python",
   "name": "python3"
  },
  "language_info": {
   "codemirror_mode": {
    "name": "ipython",
    "version": 3
   },
   "file_extension": ".py",
   "mimetype": "text/x-python",
   "name": "python",
   "nbconvert_exporter": "python",
   "pygments_lexer": "ipython3",
   "version": "3.8.2"
  }
 },
 "nbformat": 4,
 "nbformat_minor": 5
}
