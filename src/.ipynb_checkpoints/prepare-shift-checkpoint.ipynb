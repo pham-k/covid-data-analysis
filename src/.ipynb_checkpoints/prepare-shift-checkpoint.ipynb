{
 "cells": [
  {
   "cell_type": "code",
   "execution_count": 70,
   "id": "5e55a62d",
   "metadata": {},
   "outputs": [],
   "source": [
    "import pandas as pd\n",
    "import re"
   ]
  },
  {
   "cell_type": "code",
   "execution_count": 71,
   "id": "17502d5c",
   "metadata": {},
   "outputs": [],
   "source": [
    "df = pd.read_csv('../data/raw/shift/shift-2021-06-25.csv', sep=';').iloc[:,0:20]\n",
    "# df = pd.read_excel('../data/raw/shift/shift-2021-06-25.xlsx', sheet_name=3)"
   ]
  },
  {
   "cell_type": "code",
   "execution_count": 77,
   "id": "e7f2c8bf",
   "metadata": {},
   "outputs": [],
   "source": [
    "# df.info()\n",
    "# df.head()"
   ]
  },
  {
   "cell_type": "code",
   "execution_count": 73,
   "id": "c7e4282a",
   "metadata": {},
   "outputs": [],
   "source": [
    "# * fix input\n",
    "\n",
    "# fix report 22/06\n",
    "df.iloc[1663:1704,0] = '22/06'\n",
    "df.iloc[826,0] = '16/06'\n",
    "df.iloc[1777:1779,0] = '23/06'\n",
    "\n",
    "# fix yob\n",
    "df[df.iloc[:,4] == '978'] = 1978\n",
    "df[df.iloc[:,4] == '19678'] = 1978\n"
   ]
  },
  {
   "cell_type": "code",
   "execution_count": 74,
   "id": "8ca3a0d7",
   "metadata": {},
   "outputs": [],
   "source": [
    "def compute_date_report(row):\n",
    "    pattern = r'[\\d]{2}(?:/|-)[\\d]{1,2}'\n",
    "    s = re.search(pattern, row)\n",
    "    if s != None:\n",
    "        return s.group().replace('-', '/').replace('/6', '/06') + '/2021'\n",
    "    else:\n",
    "        return \"\"\n",
    "    \n",
    "def compute_date_positive(row):\n",
    "    if row.result_1 == 'D':\n",
    "        return str(row.test_1)[0:11]\n",
    "    elif row.result_2 == 'D':\n",
    "        return str(row.test_2)[0:11]\n",
    "    elif row.result_3 == 'D':\n",
    "        return str(row.test_3)[0:11]\n",
    "    elif row.result_4 == 'D':\n",
    "        return str(row.test_4)[0:11]\n",
    "    elif row.result_5 == 'D':\n",
    "        return str(row.test_5)[0:11]\n",
    "    \n",
    "    \n",
    "def encode_addr_dist(row):\n",
    "    d = str(row.addr_dist).upper().strip()\n",
    "    if d in ['1', '01', 'QUẬN 1', 'BẾN NGHÉ', 'TÂN ĐỊNH', 'NGUYỄN CƯ TRINH']:\n",
    "        return 'QA01'\n",
    "    elif d in ['2', '02', 'QUẬN 2']:\n",
    "        return 'QA02'\n",
    "    elif d in ['3', '03']:\n",
    "        return 'QA03'\n",
    "    elif d in ['4', '04']:\n",
    "        return 'QA04'\n",
    "    elif d in ['5', '05']:\n",
    "        return 'QA05'\n",
    "    elif d in ['6', '06', 'QUẬN 6']:\n",
    "        return 'QA06'\n",
    "    elif d in ['7', '07']:\n",
    "        return 'QA07'\n",
    "    elif d in ['8', '08', 'QUẬN 8']:\n",
    "        return 'QA08'\n",
    "    elif d in ['9', '09', 'QUẬN 9']:\n",
    "        return 'QA09'\n",
    "    elif d in ['10', 'QUẬN 10']:\n",
    "        return 'QA10'\n",
    "    elif d in ['11', 'QUẬN 11']:\n",
    "        return 'QA11'\n",
    "    elif d in ['12', 'Q12', 'TÂN THỚI NHẤT']:\n",
    "        return 'QA12'\n",
    "    elif d in ['GÒ VẤP', 'GO VAP']:\n",
    "        return 'QGVP'\n",
    "    elif d in ['HÓC MÔN', 'HOC MON', 'THÁI TAM THÂN', 'XUÂN THỚI THƯỢNG']:\n",
    "        return 'QHMN'\n",
    "    elif d in ['CẦN GIỜ', 'CAN GIO']:\n",
    "        return 'QCGI'\n",
    "    elif d in ['CỦ CHI', 'CU CHI', 'PHƯỚC VĨNH AN']:\n",
    "        return 'QCCH'\n",
    "    elif d in ['BINH THANH', 'BÌNH THẠNH']:\n",
    "        return 'QBTH'\n",
    "    elif d in ['PHÚ NHUẬN', 'PHU NHUAN']:\n",
    "        return 'QPNH'\n",
    "    elif d in ['TAN BINH', 'TÂN BÌNH']:\n",
    "        return 'QTBH'\n",
    "    elif d in ['THỦ ĐỨC', 'THU DUC', 'BÌNH CHIỂU', 'LINH ĐÔNG', 'HIỆP BÌNH PHƯỚC', 'LONG TRƯỜNG', \n",
    "               'LONG PHƯỚC', 'HIỆP BÌNH CHÁNH']:\n",
    "        return 'QTDC'\n",
    "    elif d in ['TAN PHU', 'TÂN PHÚ', 'SƠN KỲ', 'PHÚ TRUNG', 'PHÚ THẠNH', 'TÂN THÀNH']:\n",
    "        return 'QTPH'\n",
    "    elif d in ['BÌNH TÂN', 'BINH TAN', 'AN LẠC', 'BÌNH HƯNG HÒA A', 'BÌNH HƯNG HÒA A', 'BÌNH TRỊ ĐÔNG']:\n",
    "        return 'QBTN'\n",
    "    elif d in ['NHA BE', 'NHÀ BÈ', 'PHƯỚC KIẾN']:\n",
    "        return 'QNBE'\n",
    "    elif d in ['BÌNH CHÁNH', 'BINH CHANH', 'PHONG PHÚ', 'VĨNH LỘC A', 'TÂN QUÝ TÂY', 'TT TÂN TÚC']:\n",
    "        return 'QBCH'\n",
    "    else:\n",
    "        return 'UNKN'\n",
    "    "
   ]
  },
  {
   "cell_type": "code",
   "execution_count": 75,
   "id": "b19f9cf4",
   "metadata": {},
   "outputs": [],
   "source": [
    "df = df.rename(\n",
    "    columns={\n",
    "        df.columns[0]: 'report',\n",
    "        df.columns[1]: 'no',\n",
    "        df.columns[2]: 'name_full',\n",
    "        df.columns[3]: 'sex',\n",
    "        df.columns[4]: 'yob',\n",
    "        df.columns[5]: 'tel',\n",
    "        df.columns[6]: 'addr',\n",
    "        df.columns[7]: 'addr_ward',\n",
    "        df.columns[8]: 'addr_dist',\n",
    "        df.columns[9]: 'workplace',\n",
    "        df.columns[10]: 'test_1',\n",
    "        df.columns[11]: 'result_1',\n",
    "        df.columns[12]: 'test_2',\n",
    "        df.columns[13]: 'result_2',\n",
    "        df.columns[14]: 'test_3',\n",
    "        df.columns[15]: 'result_3',\n",
    "        df.columns[16]: 'test_4',\n",
    "        df.columns[17]: 'result_4',\n",
    "        df.columns[18]: 'test_5',\n",
    "        df.columns[19]: 'result_5'\n",
    "#         df.columns[20]: 'date_contact',\n",
    "#         df.columns[21]: 'symptom',\n",
    "#         df.columns[22]: 'date_onset',\n",
    "#         df.columns[23]: 'date_qrt',\n",
    "#         df.columns[24]: 'loc_qrt',\n",
    "#         df.columns[25]: 'loc_test',\n",
    "#         df.columns[26]: 'loc_lab',\n",
    "#         df.columns[27]: 'loc_contact',\n",
    "#         df.columns[28]: 'note'\n",
    "    })\n",
    "\n",
    "df = df.assign(\n",
    "    date_report = df['report'].astype('str').apply(compute_date_report),\n",
    "    name_full = df['name_full'].str.upper(),\n",
    "    sex = df['sex'].str.upper().str.strip(),\n",
    "    addr_dist = df.apply(encode_addr_dist, axis=1),\n",
    "    yob = df['yob'].str[-4:].astype('float'),\n",
    "    result_1 = df['result_1'].str.upper().str.strip().str.extract(r'(^[ÂD])'),\n",
    "    result_2 = df['result_2'].str.upper().str.strip().str.extract(r'(^[ÂD])'),\n",
    "    result_3 = df['result_3'].str.upper().str.strip().str.extract(r'(^[ÂD])'),\n",
    "    result_4 = df['result_4'].str.upper().str.strip().str.extract(r'(^[ÂD])'),\n",
    "    result_5 = df['result_5'].str.upper().str.strip().str.extract(r'(^[ÂD])')\n",
    ")\n",
    "\n",
    "df['date_positive'] = df.apply(compute_date_positive, axis=1)"
   ]
  },
  {
   "cell_type": "code",
   "execution_count": 76,
   "id": "9fae0929",
   "metadata": {},
   "outputs": [
    {
     "data": {
      "text/plain": [
       "addr_dist\n",
       "UNKN    615\n",
       "QBTN    379\n",
       "QHMN    200\n",
       "QCCH    199\n",
       "QA08    130\n",
       "QTPH    129\n",
       "QA12    127\n",
       "QBCH    120\n",
       "QA01    114\n",
       "QA05     86\n",
       "QGVP     73\n",
       "QBTH     72\n",
       "QA04     65\n",
       "QTBH     61\n",
       "QTDC     52\n",
       "QA07     31\n",
       "QA09     26\n",
       "QA10     24\n",
       "QA11     23\n",
       "QA03     22\n",
       "QNBE     21\n",
       "QA06     20\n",
       "QPNH     17\n",
       "QA02     15\n",
       "QCGI      3\n",
       "dtype: int64"
      ]
     },
     "execution_count": 76,
     "metadata": {},
     "output_type": "execute_result"
    }
   ],
   "source": [
    "# df.value_counts('addr_dist')"
   ]
  },
  {
   "cell_type": "code",
   "execution_count": 78,
   "id": "d0cbde62",
   "metadata": {},
   "outputs": [],
   "source": [
    "df = df.drop_duplicates(\n",
    "    subset=['name_full', 'sex', 'yob', 'addr_dist', 'date_report']\n",
    ")"
   ]
  },
  {
   "cell_type": "code",
   "execution_count": 79,
   "id": "bb6e8286",
   "metadata": {},
   "outputs": [],
   "source": [
    "df.drop(\n",
    "    columns=['report', 'tel', 'addr', 'addr_ward', 'no'],\n",
    "    inplace=True\n",
    ")\n",
    "\n",
    "df.drop(\n",
    "    columns=df.columns[4:15],\n",
    "    inplace=True\n",
    ")"
   ]
  },
  {
   "cell_type": "code",
   "execution_count": null,
   "id": "85770afd",
   "metadata": {},
   "outputs": [],
   "source": [
    "# dup = df.value_counts(subset=['name_full', 'sex', 'yob', 'addr_dist', 'date_report'])\n",
    "# dup[dup > 1]"
   ]
  },
  {
   "cell_type": "code",
   "execution_count": 1,
   "id": "bb278b65",
   "metadata": {},
   "outputs": [
    {
     "ename": "NameError",
     "evalue": "name 'df' is not defined",
     "output_type": "error",
     "traceback": [
      "\u001b[0;31m---------------------------------------------------------------------------\u001b[0m",
      "\u001b[0;31mNameError\u001b[0m                                 Traceback (most recent call last)",
      "\u001b[0;32m<ipython-input-1-169934c936b6>\u001b[0m in \u001b[0;36m<module>\u001b[0;34m\u001b[0m\n\u001b[1;32m      1\u001b[0m \u001b[0;31m# df\u001b[0m\u001b[0;34m\u001b[0m\u001b[0;34m\u001b[0m\u001b[0;34m\u001b[0m\u001b[0m\n\u001b[0;32m----> 2\u001b[0;31m \u001b[0mdf\u001b[0m\u001b[0;34m.\u001b[0m\u001b[0mvalue_counts\u001b[0m\u001b[0;34m(\u001b[0m\u001b[0;34m'addr_dist'\u001b[0m\u001b[0;34m)\u001b[0m\u001b[0;34m[\u001b[0m\u001b[0;36m10\u001b[0m\u001b[0;34m:\u001b[0m\u001b[0;36m20\u001b[0m\u001b[0;34m]\u001b[0m\u001b[0;34m\u001b[0m\u001b[0;34m\u001b[0m\u001b[0m\n\u001b[0m\u001b[1;32m      3\u001b[0m \u001b[0mdf\u001b[0m\u001b[0;34m.\u001b[0m\u001b[0mto_csv\u001b[0m\u001b[0;34m(\u001b[0m\u001b[0;34m'../data/processed/shift.csv'\u001b[0m\u001b[0;34m)\u001b[0m\u001b[0;34m\u001b[0m\u001b[0;34m\u001b[0m\u001b[0m\n",
      "\u001b[0;31mNameError\u001b[0m: name 'df' is not defined"
     ]
    }
   ],
   "source": [
    "# df\n",
    "df.value_counts('addr_dist')[10:20]\n",
    "df.to_csv('../data/processed/shift.csv')"
   ]
  },
  {
   "cell_type": "code",
   "execution_count": null,
   "id": "b011ed88",
   "metadata": {},
   "outputs": [],
   "source": []
  }
 ],
 "metadata": {
  "kernelspec": {
   "display_name": "Python 3",
   "language": "python",
   "name": "python3"
  },
  "language_info": {
   "codemirror_mode": {
    "name": "ipython",
    "version": 3
   },
   "file_extension": ".py",
   "mimetype": "text/x-python",
   "name": "python",
   "nbconvert_exporter": "python",
   "pygments_lexer": "ipython3",
   "version": "3.8.2"
  }
 },
 "nbformat": 4,
 "nbformat_minor": 5
}
