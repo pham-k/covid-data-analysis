{
 "cells": [
  {
   "cell_type": "code",
   "execution_count": 2,
   "id": "92ee356d",
   "metadata": {},
   "outputs": [],
   "source": [
    "import pandas as pd\n",
    "import pathlib"
   ]
  },
  {
   "cell_type": "code",
   "execution_count": 3,
   "id": "a4972cd9",
   "metadata": {},
   "outputs": [],
   "source": [
    "interim = pathlib.Path().cwd().parent.parent / 'data' / 'interim'"
   ]
  },
  {
   "cell_type": "code",
   "execution_count": 16,
   "id": "03927a1c",
   "metadata": {},
   "outputs": [],
   "source": [
    "df = pd.read_csv(interim / 'public.csv')\n",
    "# pbdf = pd.read_csv(interim / 'pbdf.csv')"
   ]
  },
  {
   "cell_type": "code",
   "execution_count": 6,
   "id": "74a0a4bf",
   "metadata": {},
   "outputs": [],
   "source": [
    "# shdf.info()\n",
    "# shdf.head()"
   ]
  },
  {
   "cell_type": "code",
   "execution_count": 17,
   "id": "2b416b6d",
   "metadata": {},
   "outputs": [
    {
     "data": {
      "text/plain": [
       "cntt_case_2\n",
       "TRẦN THÀNH GIANG                 226\n",
       "BN10981 NGUYỄN THỊ THANH LAN     166\n",
       "Đang xác minh                    155\n",
       "BN10119 NGUYỄN THẾ PHÚC          113\n",
       "BN9833 TRẦN THỊ SANG             108\n",
       "                                ... \n",
       "BN18820 NGUYỄN BÁ ANH THỦ          1\n",
       "BN18880 BÙI THỊ HẰNG               1\n",
       "BN18945 LƯU QUANG KiỆT             1\n",
       "BN19102 NGUYỄN YÊN HOÀNG MINH      1\n",
       "BN6309 ĐỖ THỊ KIM TIẾN             1\n",
       "Length: 1137, dtype: int64"
      ]
     },
     "execution_count": 17,
     "metadata": {},
     "output_type": "execute_result"
    }
   ],
   "source": [
    "df.value_counts('cntt_case_2')"
   ]
  }
 ],
 "metadata": {
  "kernelspec": {
   "display_name": "Python 3",
   "language": "python",
   "name": "python3"
  },
  "language_info": {
   "codemirror_mode": {
    "name": "ipython",
    "version": 3
   },
   "file_extension": ".py",
   "mimetype": "text/x-python",
   "name": "python",
   "nbconvert_exporter": "python",
   "pygments_lexer": "ipython3",
   "version": "3.8.2"
  }
 },
 "nbformat": 4,
 "nbformat_minor": 5
}
