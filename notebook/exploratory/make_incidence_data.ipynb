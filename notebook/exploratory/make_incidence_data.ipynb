{
 "cells": [
  {
   "cell_type": "code",
   "execution_count": 1,
   "id": "9d99da52",
   "metadata": {},
   "outputs": [],
   "source": [
    "import pandas as pd\n",
    "import pathlib\n",
    "import matplotlib.pyplot as plt"
   ]
  },
  {
   "cell_type": "code",
   "execution_count": 2,
   "id": "6399e6d4",
   "metadata": {},
   "outputs": [],
   "source": [
    "interim = pathlib.Path().cwd().parent.parent / 'data' / 'interim'"
   ]
  },
  {
   "cell_type": "code",
   "execution_count": 3,
   "id": "0582f399",
   "metadata": {},
   "outputs": [
    {
     "name": "stderr",
     "output_type": "stream",
     "text": [
      "/home/kyo/.local/lib/python3.8/site-packages/IPython/core/interactiveshell.py:3145: DtypeWarning: Columns (1,8,9,10,11,13,19,20,23,25,26,27,28,29,30,33,34,35,36,39,40,41,44,49,50,51,52,55,56,57,58,61,62,63,64,67,68,69,70,73,74,75,78,81,82,83,84,85,86,87,88,89,90,91,92,95,96,99,101,105,108) have mixed types.Specify dtype option on import or set low_memory=False.\n",
      "  has_raised = await self.run_ast_nodes(code_ast.body, cell_name,\n"
     ]
    }
   ],
   "source": [
    "df = (pd.read_csv(interim / 'public-test.csv', sep=';')\n",
    "      [['date_report', 'sex', 'yob', 'addr_dist_home', 'name_full']]\n",
    "     )"
   ]
  },
  {
   "cell_type": "code",
   "execution_count": 4,
   "id": "e89688ed",
   "metadata": {},
   "outputs": [],
   "source": [
    "df = df.assign(\n",
    "    date_report = pd.to_datetime(df.date_report, errors='coerce', format='%d/%m/%Y'),\n",
    "    adult = (2021 - df.yob.astype('float')) > 18\n",
    ")"
   ]
  },
  {
   "cell_type": "code",
   "execution_count": 5,
   "id": "af84ae92",
   "metadata": {},
   "outputs": [],
   "source": [
    "df = df[(df.sex == 'NAM') | (df.sex == 'NỮ')]\n",
    "df = df.replace(['NAM', 'NỮ'], ['MALE', 'FEMALE'])"
   ]
  },
  {
   "cell_type": "code",
   "execution_count": 21,
   "id": "4b2764c3",
   "metadata": {},
   "outputs": [],
   "source": [
    "# inc"
   ]
  },
  {
   "cell_type": "code",
   "execution_count": 7,
   "id": "6ba825c9",
   "metadata": {},
   "outputs": [],
   "source": [
    "inc = (\n",
    "    df[['date_report']]\n",
    "    .groupby(['date_report'])\n",
    "    .apply(lambda x: len(x))\n",
    "    .to_frame(name='case')\n",
    "    .reindex(pd.date_range(start=df.date_report.min(), end=df.date_report.max(), freq='D'))\n",
    "    .fillna(0)\n",
    "      )\n",
    "inc['case_rm'] = inc.case.rolling(7).mean()\n",
    "# inc['case_rs'] = inc.case.rolling(7).sum()\n",
    "\n",
    "# inc['case_rs'] = inc.rolling(7).sum()"
   ]
  },
  {
   "cell_type": "code",
   "execution_count": 10,
   "id": "e9701218",
   "metadata": {},
   "outputs": [],
   "source": [
    "def calculate_incidence(df, group_col, roll_mean=False, pivot=True):\n",
    "    inc = (\n",
    "        df[['date_report', group_col]]\n",
    "        .groupby(['date_report', group_col])\n",
    "        .apply(lambda x: len(x))\n",
    "        .to_frame(name='case')\n",
    "        .unstack(fill_value=0)\n",
    "        .asfreq('D', fill_value=0)\n",
    "        .stack()\n",
    "        .sort_index(level=0)\n",
    "        .reset_index(1)\n",
    "    )\n",
    "    \n",
    "    if roll_mean:\n",
    "        inc['case_rm'] = (\n",
    "            inc.groupby(group_col)['case']\n",
    "            .transform(lambda x: x.rolling(7).mean())\n",
    "        )\n",
    "\n",
    "    inc = inc.reset_index(0)\n",
    "    \n",
    "    if pivot:\n",
    "        inc = inc.pivot(index='date_report', columns=group_col, values=['case'])\n",
    "#         col = inc[group_col].unique()\n",
    "#         inc.columns = col\n",
    "        \n",
    "    return inc"
   ]
  },
  {
   "cell_type": "code",
   "execution_count": 19,
   "id": "5abc3ec8",
   "metadata": {},
   "outputs": [],
   "source": [
    "inc_adh_rollmean = calculate_incidence(df, 'addr_dist_home', roll_mean=True, pivot=False)\n",
    "inc_adh_cumsum = (\n",
    "    calculate_incidence(df, 'addr_dist_home', roll_mean=False, pivot=False)\n",
    "    .groupby(['addr_dist_home', 'date_report'])\n",
    "    .sum()\n",
    "    .groupby(level=0)\n",
    "    .cumsum()\n",
    "    .reset_index()\n",
    ")\n",
    "inc_sex = calculate_incidence(df, 'sex', roll_mean=False, pivot=True)\n",
    "inc_sex.columns = ['female', 'male']\n",
    "inc_adult = calculate_incidence(df, 'adult', roll_mean=False, pivot=True)\n",
    "inc_adult.columns = ['lte18', 'gt18']"
   ]
  },
  {
   "cell_type": "code",
   "execution_count": 23,
   "id": "a2bb164e",
   "metadata": {},
   "outputs": [],
   "source": [
    "# inc_adh_cumsum[inc_adh_cumsum.addr_dist_home == 'QA08']\n",
    "# inc_adult"
   ]
  },
  {
   "cell_type": "code",
   "execution_count": null,
   "id": "6cce384c",
   "metadata": {},
   "outputs": [],
   "source": [
    "inc_sex = (df[['date_report', 'sex']]\n",
    "           [(df.sex == 'NAM') | (df.sex == 'NỮ')]\n",
    "           .groupby(['date_report', 'sex'])\n",
    "           .apply(lambda x: len(x))\n",
    "           .to_frame(name='case')\n",
    "          )\n",
    "\n",
    "inc_sex = inc_sex.reset_index()\n",
    "inc_sex = inc_sex.pivot(index='date_report', columns='sex', values='case')\n",
    "inc_sex.columns = ['male', 'female']"
   ]
  },
  {
   "cell_type": "code",
   "execution_count": null,
   "id": "e52cedfb",
   "metadata": {},
   "outputs": [],
   "source": [
    "inc_adult = (df[['date_report', 'adult']]\n",
    "           .groupby(['date_report', 'adult'])\n",
    "           .apply(lambda x: len(x))\n",
    "           .to_frame(name='case')\n",
    "          )\n",
    "\n",
    "inc_adult = inc_adult.reset_index()\n",
    "inc_adult = inc_adult.pivot(index='date_report', columns='adult', values='case')\n",
    "inc_adult.columns = ['gt18', 'lte18']"
   ]
  },
  {
   "cell_type": "code",
   "execution_count": null,
   "id": "71f6d538",
   "metadata": {},
   "outputs": [],
   "source": [
    "fig, ax = plt.subplots(figsize=(12,6))\n",
    "# ax.bar(inc.index, inc.case, label='Số ca mới theo ngày', linewidth=3, color='gray')\n",
    "ax.bar(inc_sex.index, inc_sex.male, label='Nam', color='blue', alpha=0.4)\n",
    "ax.bar(inc_sex.index, inc_sex.female, bottom=inc_sex.male, label='Nữ', color='red', alpha=0.4)\n",
    "ax.plot(inc.index, inc.case_rm, label='Biến động trung bình 7 ngày', linewidth=3, color='black')\n",
    "# ax.plot(inc_sex.index, inc_sex.male, label='Nam', linewidth=2, color='blue')\n",
    "# ax.plot(inc_sex.index, inc_sex.female, label='Nữ', linewidth=2, color='red')\n",
    "ax.set_ylabel('Số ca mới')\n",
    "ax.set_xlabel('Ngày')\n",
    "ax.set_xticks(inc.index)\n",
    "ax.tick_params(axis='x', labelrotation=90)\n",
    "ax.set_title('Số ca mới theo ngày và biến động trung bình 7 ngày')\n",
    "ax.legend()"
   ]
  },
  {
   "cell_type": "code",
   "execution_count": null,
   "id": "3555e92b",
   "metadata": {},
   "outputs": [],
   "source": [
    "fig, ax = plt.subplots(figsize=(12,6))\n",
    "ax.bar(inc.index, inc.case, label='Số ca mới theo ngày', linewidth=3, color='gray')\n",
    "ax.plot(inc.index, inc.case_rm, label='Biến động trung bình 7 ngày', linewidth=3, color='black')\n",
    "ax.plot(inc_adult.index, inc_adult.gt18, label='> 18', linewidth=2, color='blue')\n",
    "ax.plot(inc_adult.index, inc_adult.lte18, label='<= 18', linewidth=2, color='red')\n",
    "ax.set_ylabel('Số ca mới')\n",
    "ax.set_xlabel('Ngày')\n",
    "ax.set_xticks(inc.index)\n",
    "ax.tick_params(axis='x', labelrotation=90)\n",
    "ax.set_title('Số ca mới theo ngày và biến động trung bình 7 ngày')\n",
    "ax.legend()"
   ]
  },
  {
   "cell_type": "code",
   "execution_count": null,
   "id": "499afe61",
   "metadata": {},
   "outputs": [],
   "source": [
    "inc"
   ]
  }
 ],
 "metadata": {
  "kernelspec": {
   "display_name": "Python 3",
   "language": "python",
   "name": "python3"
  },
  "language_info": {
   "codemirror_mode": {
    "name": "ipython",
    "version": 3
   },
   "file_extension": ".py",
   "mimetype": "text/x-python",
   "name": "python",
   "nbconvert_exporter": "python",
   "pygments_lexer": "ipython3",
   "version": "3.8.2"
  }
 },
 "nbformat": 4,
 "nbformat_minor": 5
}
