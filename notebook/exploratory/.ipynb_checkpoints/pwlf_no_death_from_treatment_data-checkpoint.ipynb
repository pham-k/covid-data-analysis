{
 "cells": [
  {
   "cell_type": "code",
   "execution_count": 1,
   "id": "4cb12e7e",
   "metadata": {},
   "outputs": [],
   "source": [
    "import pandas as pd\n",
    "import matplotlib.pyplot as plt\n",
    "import pwlf\n",
    "import pathlib\n",
    "import math\n",
    "import numpy as np"
   ]
  },
  {
   "cell_type": "code",
   "execution_count": 2,
   "id": "79f3065a",
   "metadata": {},
   "outputs": [],
   "source": [
    "src = pathlib.Path().cwd().parent.parent / 'data' / 'processed'"
   ]
  },
  {
   "cell_type": "code",
   "execution_count": 3,
   "id": "2d9133de",
   "metadata": {},
   "outputs": [],
   "source": [
    "no_death = pd.read_csv(src / 'no-death-from-treatment-data' / 'no-death.csv', index_col=0)"
   ]
  },
  {
   "cell_type": "code",
   "execution_count": 4,
   "id": "5f851cb6",
   "metadata": {},
   "outputs": [],
   "source": [
    "no_death.index = pd.to_datetime(no_death.index)"
   ]
  },
  {
   "cell_type": "code",
   "execution_count": 8,
   "id": "8cddcd67",
   "metadata": {},
   "outputs": [
    {
     "data": {
      "text/html": [
       "<div>\n",
       "<style scoped>\n",
       "    .dataframe tbody tr th:only-of-type {\n",
       "        vertical-align: middle;\n",
       "    }\n",
       "\n",
       "    .dataframe tbody tr th {\n",
       "        vertical-align: top;\n",
       "    }\n",
       "\n",
       "    .dataframe thead th {\n",
       "        text-align: right;\n",
       "    }\n",
       "</style>\n",
       "<table border=\"1\" class=\"dataframe\">\n",
       "  <thead>\n",
       "    <tr style=\"text-align: right;\">\n",
       "      <th></th>\n",
       "      <th>no_death</th>\n",
       "      <th>no_death_rollmean7d</th>\n",
       "      <th>no_death_cumsum</th>\n",
       "      <th>no_death_ppop</th>\n",
       "      <th>no_death_ppop_rollmean7d</th>\n",
       "      <th>no_death_ppop_cumsum</th>\n",
       "      <th>ct</th>\n",
       "      <th>diff</th>\n",
       "      <th>pct_change</th>\n",
       "      <th>diff7</th>\n",
       "    </tr>\n",
       "    <tr>\n",
       "      <th>date_report</th>\n",
       "      <th></th>\n",
       "      <th></th>\n",
       "      <th></th>\n",
       "      <th></th>\n",
       "      <th></th>\n",
       "      <th></th>\n",
       "      <th></th>\n",
       "      <th></th>\n",
       "      <th></th>\n",
       "      <th></th>\n",
       "    </tr>\n",
       "  </thead>\n",
       "  <tbody>\n",
       "    <tr>\n",
       "      <th>2021-09-21</th>\n",
       "      <td>184.0</td>\n",
       "      <td>172.142857</td>\n",
       "      <td>12220.0</td>\n",
       "      <td>2.046017</td>\n",
       "      <td>1.914170</td>\n",
       "      <td>135.882226</td>\n",
       "      <td>2.0</td>\n",
       "      <td>25.0</td>\n",
       "      <td>0.157233</td>\n",
       "      <td>1205.0</td>\n",
       "    </tr>\n",
       "    <tr>\n",
       "      <th>2021-09-22</th>\n",
       "      <td>181.0</td>\n",
       "      <td>171.000000</td>\n",
       "      <td>12401.0</td>\n",
       "      <td>2.012658</td>\n",
       "      <td>1.901462</td>\n",
       "      <td>137.894884</td>\n",
       "      <td>2.0</td>\n",
       "      <td>-3.0</td>\n",
       "      <td>-0.016304</td>\n",
       "      <td>1197.0</td>\n",
       "    </tr>\n",
       "    <tr>\n",
       "      <th>2021-09-23</th>\n",
       "      <td>175.0</td>\n",
       "      <td>173.142857</td>\n",
       "      <td>12576.0</td>\n",
       "      <td>1.945940</td>\n",
       "      <td>1.925289</td>\n",
       "      <td>139.840824</td>\n",
       "      <td>2.0</td>\n",
       "      <td>-6.0</td>\n",
       "      <td>-0.033149</td>\n",
       "      <td>1212.0</td>\n",
       "    </tr>\n",
       "    <tr>\n",
       "      <th>2021-09-24</th>\n",
       "      <td>140.0</td>\n",
       "      <td>169.428571</td>\n",
       "      <td>12716.0</td>\n",
       "      <td>1.556752</td>\n",
       "      <td>1.883988</td>\n",
       "      <td>141.397576</td>\n",
       "      <td>2.0</td>\n",
       "      <td>-35.0</td>\n",
       "      <td>-0.200000</td>\n",
       "      <td>1186.0</td>\n",
       "    </tr>\n",
       "    <tr>\n",
       "      <th>2021-09-25</th>\n",
       "      <td>123.0</td>\n",
       "      <td>163.428571</td>\n",
       "      <td>12839.0</td>\n",
       "      <td>1.367718</td>\n",
       "      <td>1.817270</td>\n",
       "      <td>142.765294</td>\n",
       "      <td>2.0</td>\n",
       "      <td>-17.0</td>\n",
       "      <td>-0.121429</td>\n",
       "      <td>1144.0</td>\n",
       "    </tr>\n",
       "  </tbody>\n",
       "</table>\n",
       "</div>"
      ],
      "text/plain": [
       "             no_death  no_death_rollmean7d  no_death_cumsum  no_death_ppop  \\\n",
       "date_report                                                                  \n",
       "2021-09-21      184.0           172.142857          12220.0       2.046017   \n",
       "2021-09-22      181.0           171.000000          12401.0       2.012658   \n",
       "2021-09-23      175.0           173.142857          12576.0       1.945940   \n",
       "2021-09-24      140.0           169.428571          12716.0       1.556752   \n",
       "2021-09-25      123.0           163.428571          12839.0       1.367718   \n",
       "\n",
       "             no_death_ppop_rollmean7d  no_death_ppop_cumsum   ct  diff  \\\n",
       "date_report                                                              \n",
       "2021-09-21                   1.914170            135.882226  2.0  25.0   \n",
       "2021-09-22                   1.901462            137.894884  2.0  -3.0   \n",
       "2021-09-23                   1.925289            139.840824  2.0  -6.0   \n",
       "2021-09-24                   1.883988            141.397576  2.0 -35.0   \n",
       "2021-09-25                   1.817270            142.765294  2.0 -17.0   \n",
       "\n",
       "             pct_change   diff7  \n",
       "date_report                      \n",
       "2021-09-21     0.157233  1205.0  \n",
       "2021-09-22    -0.016304  1197.0  \n",
       "2021-09-23    -0.033149  1212.0  \n",
       "2021-09-24    -0.200000  1186.0  \n",
       "2021-09-25    -0.121429  1144.0  "
      ]
     },
     "execution_count": 8,
     "metadata": {},
     "output_type": "execute_result"
    }
   ],
   "source": [
    "# no_death.index\n",
    "no_death.tail()"
   ]
  },
  {
   "cell_type": "code",
   "execution_count": 23,
   "id": "5af4cc59",
   "metadata": {},
   "outputs": [],
   "source": [
    "# shift left\n",
    "# no_case['no_case_rollmean7d_sl'] = no_case.no_case_rollmean7d.shift(-10)\n",
    "# no_case['no_case_sl'] = no_case.no_case.shift(-10)\n",
    "# no_case = no_case.loc[:'2021-09-01',]"
   ]
  },
  {
   "cell_type": "code",
   "execution_count": 9,
   "id": "be16b724",
   "metadata": {},
   "outputs": [],
   "source": [
    "# no_case.tail(15)\n",
    "# no_case_by_adh"
   ]
  },
  {
   "cell_type": "code",
   "execution_count": 25,
   "id": "7ea334c6",
   "metadata": {},
   "outputs": [],
   "source": [
    "# Plot no_case\n",
    "# fig, ax = plt.subplots(figsize=(20, 8))\n",
    "# ax.plot(no_case.index, no_case.no_case, linewidth=3, color='red', alpha=0.6)\n",
    "# ax.set_ylabel('Số ca mới')\n",
    "# ax.set_ylim([0, 7500])\n",
    "# ax.set_xlabel('Ngày')\n",
    "# ax.set_xticks(no_case.index)\n",
    "# ax.tick_params(axis='x', labelrotation=90)"
   ]
  },
  {
   "cell_type": "code",
   "execution_count": 26,
   "id": "145ca41d",
   "metadata": {},
   "outputs": [],
   "source": [
    "# Plot log no_case\n",
    "# fig, ax = plt.subplots(figsize=(16, 8))\n",
    "# ax.plot(no_case.index, (no_case.no_case_rollmean7d).transform(math.log), linewidth=3, color='red', alpha=0.6)\n",
    "# ax.set_ylabel('Số ca mới')\n",
    "# # ax.set_ylim([0, 7500])\n",
    "# ax.set_xlabel('Ngày')\n",
    "# ax.set_xticks(no_case.index)\n",
    "# ax.tick_params(axis='x', labelrotation=90)"
   ]
  },
  {
   "cell_type": "code",
   "execution_count": 9,
   "id": "94656b90",
   "metadata": {},
   "outputs": [],
   "source": [
    "# Model config\n",
    "beta_dict = {}\n",
    "slope_dict = {}\n",
    "x_dict = {}\n",
    "y_dict = {}\n",
    "x_hat_dict = {}\n",
    "y_hat_dict = {}\n",
    "predicted_var_dict = {}\n",
    "ub_dict = {}\n",
    "lb_dict = {}\n",
    "xlabels_dict = {}\n",
    "plot_title_dict = {}\n",
    "no_death_col = 'no_death_rollmean7d'\n",
    "forecast_horizon = 20\n",
    "policy_change = [no_death.index.min(),\n",
    "#                  '2021-05-31', # chi thi 15, 16\n",
    "#                  '2021-06-14', # chi thi 15\n",
    "#                  '2021-06-19', # chi thi 10\n",
    "#                  '2021-07-09', # chi thi 16\n",
    "#                  '2021-07-19', # chi thi 16\n",
    "#                  '2021-07-27', # ngung xn hang loat\n",
    "#                  '2021-08-01', # chi thi 16\n",
    "                 '2021-08-10', # quan huyen k fit\n",
    "                 '2021-08-15',\n",
    "                 '2021-08-23', # phong toa\n",
    "                 no_death.index.max()\n",
    "                ]"
   ]
  },
  {
   "cell_type": "code",
   "execution_count": 10,
   "id": "72f2aae1",
   "metadata": {},
   "outputs": [],
   "source": [
    "# no_death.index - no_death.index.min()"
   ]
  },
  {
   "cell_type": "code",
   "execution_count": 11,
   "id": "b81f97dc",
   "metadata": {},
   "outputs": [],
   "source": [
    "# Forecast no_death\n",
    "# forecast_horizon = 15\n",
    "# policy_change = [no_death.index.min(), '2021-05-31', '2021-06-14', '2021-06-19', \n",
    "#                  '2021-07-09', '2021-07-19', '2021-08-01', no_death.index.max()]\n",
    "\n",
    "x = (no_death.index - no_death.index.min()) / pd.Timedelta(1, unit='d')\n",
    "y = no_death[no_death_col].replace(0, np.nan).transform(math.log).fillna(0)\n",
    "x0 = (pd.to_datetime(policy_change) - no_death.index.min()) / pd.Timedelta(1, unit='d')\n",
    "xlabels = pd.date_range(\n",
    "    no_death.index.min(),\n",
    "    no_death.index.max() + pd.Timedelta(days=forecast_horizon-1)\n",
    ").strftime('%d-%m')\n",
    "\n",
    "model = pwlf.PiecewiseLinFit(x, y)\n",
    "model.fit_with_breaks(x0)\n",
    "\n",
    "x_hat = np.arange(min(x), max(x) + forecast_horizon)\n",
    "y_hat = model.predict(x_hat)\n",
    "\n",
    "predicted_var = model.prediction_variance(x_hat)\n",
    "ub = y_hat + 1.96*np.sqrt(predicted_var)\n",
    "lb = y_hat - 1.96*np.sqrt(predicted_var)\n",
    "\n",
    "# Add result to dict\n",
    "beta_dict['tphcm'] = list(model.beta)\n",
    "slope_dict['tphcm'] = list(model.calc_slopes())\n",
    "x_dict['tphcm'] = list(x)\n",
    "y_dict['tphcm'] = list(y)\n",
    "x_hat_dict['tphcm'] = list(x_hat)\n",
    "y_hat_dict['tphcm'] = list(y_hat)\n",
    "predicted_var_dict['tphcm'] = list(predicted_var)\n",
    "ub_dict['tphcm'] = list(ub)\n",
    "lb_dict['tphcm'] = list(lb)\n",
    "xlabels_dict['tphcm'] = list(xlabels)\n",
    "plot_title_dict['tphcm'] = 'TP HCM'"
   ]
  },
  {
   "cell_type": "code",
   "execution_count": 12,
   "id": "b8fd85e9",
   "metadata": {},
   "outputs": [
    {
     "data": {
      "text/plain": [
       "0.8719943044914987"
      ]
     },
     "execution_count": 12,
     "metadata": {},
     "output_type": "execute_result"
    }
   ],
   "source": [
    "# dir(model)\n",
    "# slope_dict\n",
    "model.r_squared()"
   ]
  },
  {
   "cell_type": "code",
   "execution_count": 30,
   "id": "5323722e",
   "metadata": {},
   "outputs": [],
   "source": [
    "# beta_dict['tphcm']"
   ]
  },
  {
   "cell_type": "code",
   "execution_count": 13,
   "id": "8cee68ac",
   "metadata": {},
   "outputs": [
    {
     "data": {
      "image/png": "[encoded data removed]",
      "text/plain": [
       "<Figure size 1440x432 with 1 Axes>"
      ]
     },
     "metadata": {
      "needs_background": "light"
     },
     "output_type": "display_data"
    }
   ],
   "source": [
    "fig, ax = plt.subplots(figsize=(20, 6))\n",
    "ax.plot(x, y, linewidth=3, color='red', alpha=0.6)\n",
    "ax.plot(x_hat, y_hat, linewidth=3, color='blue', alpha=0.6)\n",
    "ax.plot(x_hat, ub, linewidth=2, color='blue', alpha=0.3)\n",
    "ax.plot(x_hat, lb, linewidth=2, color='blue', alpha=0.3)\n",
    "ax.set_ylabel('Log BDTB so tu vong 7 ngay')\n",
    "ax.set_xlabel('Ngày')\n",
    "ax.set_title('Log BDTB so tu vong 7 ngay va du bao')\n",
    "for i in x0:\n",
    "    ax.axvline(i, color='black', alpha=0.3)\n",
    "\n",
    "xlabels = pd.date_range(\n",
    "    no_death.index.min(),\n",
    "    no_death.index.max() + pd.Timedelta(days=forecast_horizon - 1)\n",
    ").strftime('%d-%m')\n",
    "ax.set_xticks(x_hat)\n",
    "ax.set_xticklabels(xlabels)\n",
    "ax.tick_params(axis='x', labelrotation=90)"
   ]
  },
  {
   "cell_type": "code",
   "execution_count": 16,
   "id": "30b997c4",
   "metadata": {},
   "outputs": [],
   "source": [
    "fig, ax = plt.subplots(figsize=(20, 6))\n",
    "ax.plot(x, np.exp(y), linewidth=3, color='red', alpha=0.6)\n",
    "# ax.plot(x, no_death.no_death_sl, linewidth=3, color='orange', alpha=0.5)\n",
    "ax.plot(x_hat,  np.exp(y_hat), linewidth=3, color='blue', alpha=0.6)\n",
    "ax.plot(x_hat,  np.exp(ub), linewidth=2, color='blue', alpha=0.3)\n",
    "ax.plot(x_hat,  np.exp(lb), linewidth=2, color='blue', alpha=0.3)\n",
    "ax.set_ylabel(no_death_col)\n",
    "ax.set_title(no_death_col)\n",
    "for i in x0:\n",
    "    ax.axvline(i, color='black', alpha=0.3)\n",
    "ax.set_xlabel('Ngày')\n",
    "xlabels = pd.date_range(\n",
    "    no_death.index.min(),\n",
    "    no_death.index.max() + pd.Timedelta(days=forecast_horizon -1 )\n",
    ").strftime('%d-%m')\n",
    "ax.set_xticks(x_hat)\n",
    "ax.set_xticklabels(xlabels)\n",
    "ax.tick_params(axis='x', labelrotation=90)\n",
    "# ax.set_ylim([0, 10000])\n",
    "\n",
    "plt.savefig(\n",
    "    src / 'pwlf-from-no-death-from-treatment-data' / 'no-death.png',\n",
    "    transparent = True)\n",
    "plt.close(fig)"
   ]
  },
  {
   "cell_type": "code",
   "execution_count": 17,
   "id": "2c061f42",
   "metadata": {},
   "outputs": [],
   "source": [
    "slope = pd.DataFrame(slope_dict).transpose()\n",
    "slope.columns = pd.to_datetime(policy_change).strftime('%d-%m-%Y')[:-1]\n",
    "r0 = np.exp(slope)\n",
    "\n",
    "slope.to_csv(src / 'pwlf-from-no-death-from-treatment-data' / 'slope.csv')\n",
    "r0.to_csv(src / 'pwlf-from-no-death-from-treatment-data' / 'r0.csv')\n",
    "# slope\n",
    "# r0"
   ]
  }
 ],
 "metadata": {
  "kernelspec": {
   "display_name": "Python 3",
   "language": "python",
   "name": "python3"
  },
  "language_info": {
   "codemirror_mode": {
    "name": "ipython",
    "version": 3
   },
   "file_extension": ".py",
   "mimetype": "text/x-python",
   "name": "python",
   "nbconvert_exporter": "python",
   "pygments_lexer": "ipython3",
   "version": "3.8.2"
  }
 },
 "nbformat": 4,
 "nbformat_minor": 5
}
