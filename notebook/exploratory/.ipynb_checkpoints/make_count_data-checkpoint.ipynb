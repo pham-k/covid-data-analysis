{
 "cells": [
  {
   "cell_type": "code",
   "execution_count": 3,
   "id": "4334df46",
   "metadata": {},
   "outputs": [],
   "source": [
    "import pandas as pd\n",
    "import pathlib"
   ]
  },
  {
   "cell_type": "code",
   "execution_count": 4,
   "id": "dcebe8ad",
   "metadata": {},
   "outputs": [],
   "source": [
    "interim = pathlib.Path().cwd().parent.parent / 'data' / 'interim'"
   ]
  },
  {
   "cell_type": "code",
   "execution_count": 5,
   "id": "6df544cc",
   "metadata": {},
   "outputs": [
    {
     "ename": "NameError",
     "evalue": "name 'path' is not defined",
     "output_type": "error",
     "traceback": [
      "\u001b[0;31m---------------------------------------------------------------------------\u001b[0m",
      "\u001b[0;31mNameError\u001b[0m                                 Traceback (most recent call last)",
      "\u001b[0;32m<ipython-input-5-fb0b9f3b9c70>\u001b[0m in \u001b[0;36m<module>\u001b[0;34m\u001b[0m\n\u001b[0;32m----> 1\u001b[0;31m df = (pd.read_csv(path.interim / 'public-test.csv', sep=';')\n\u001b[0m\u001b[1;32m      2\u001b[0m        \u001b[0;34m[\u001b[0m\u001b[0;34m[\u001b[0m\u001b[0;34m'addr_home'\u001b[0m\u001b[0;34m,\u001b[0m \u001b[0;34m'addr_dist_home'\u001b[0m\u001b[0;34m,\u001b[0m \u001b[0;34m'addr_ward_home'\u001b[0m\u001b[0;34m,\u001b[0m \u001b[0;34m'addr_prov_home'\u001b[0m\u001b[0;34m]\u001b[0m\u001b[0;34m]\u001b[0m\u001b[0;34m\u001b[0m\u001b[0;34m\u001b[0m\u001b[0m\n\u001b[1;32m      3\u001b[0m      )\n",
      "\u001b[0;31mNameError\u001b[0m: name 'path' is not defined"
     ]
    }
   ],
   "source": [
    "df = (pd.read_csv(interim / 'public-test.csv', sep=';')\n",
    "       [['addr_home', 'addr_dist_home', 'addr_ward_home', 'addr_prov_home']]\n",
    "     )"
   ]
  },
  {
   "cell_type": "code",
   "execution_count": null,
   "id": "71934975",
   "metadata": {},
   "outputs": [],
   "source": [
    "df = df.assign(\n",
    "    addr_home = df.addr_home.astype('str').apply(util.compute_addr_x),\n",
    "    addr_ward_home = df.addr_ward_home.astype('str').apply(util.compute_addr_x),\n",
    "    addr_prov_home = df.addr_prov_home.astype('str').apply(util.compute_addr_x)\n",
    ")\n",
    "\n",
    "df['addr_comb_home'] = (df.addr_home.str.cat(df.addr_ward_home)\n",
    "                                    .str.cat(df.addr_dist_home)\n",
    "                                    .str.cat(df.addr_prov_home)\n",
    "                       )"
   ]
  },
  {
   "cell_type": "code",
   "execution_count": null,
   "id": "d1552093",
   "metadata": {},
   "outputs": [],
   "source": []
  },
  {
   "cell_type": "code",
   "execution_count": null,
   "id": "02885938",
   "metadata": {},
   "outputs": [],
   "source": [
    "count_adw = (df.groupby(['addr_dist_home', 'addr_ward_home'])\n",
    "   .apply(lambda x: len(x))\n",
    "   .to_frame('count')\n",
    "   .reset_index()\n",
    ")"
   ]
  }
 ],
 "metadata": {
  "kernelspec": {
   "display_name": "Python 3",
   "language": "python",
   "name": "python3"
  },
  "language_info": {
   "codemirror_mode": {
    "name": "ipython",
    "version": 3
   },
   "file_extension": ".py",
   "mimetype": "text/x-python",
   "name": "python",
   "nbconvert_exporter": "python",
   "pygments_lexer": "ipython3",
   "version": "3.8.2"
  }
 },
 "nbformat": 4,
 "nbformat_minor": 5
}
