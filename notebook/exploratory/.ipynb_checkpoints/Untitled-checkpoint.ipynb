{
 "cells": [
  {
   "cell_type": "code",
   "execution_count": 29,
   "id": "64ed1b98",
   "metadata": {},
   "outputs": [],
   "source": [
    "import pandas as pd\n",
    "import pathlib\n",
    "import unidecode"
   ]
  },
  {
   "cell_type": "code",
   "execution_count": 68,
   "id": "abfc77fe",
   "metadata": {},
   "outputs": [],
   "source": [
    "interim = pathlib.Path().cwd().parent.parent / 'data' / 'interim'\n",
    "reference = pathlib.Path().cwd().parent.parent / 'reference'"
   ]
  },
  {
   "cell_type": "code",
   "execution_count": 126,
   "id": "5ab3135d",
   "metadata": {},
   "outputs": [
    {
     "name": "stderr",
     "output_type": "stream",
     "text": [
      "/home/kyo/.local/lib/python3.8/site-packages/IPython/core/interactiveshell.py:3145: DtypeWarning: Columns (9) have mixed types.Specify dtype option on import or set low_memory=False.\n",
      "  has_raised = await self.run_ast_nodes(code_ast.body, cell_name,\n"
     ]
    }
   ],
   "source": [
    "df = (pd.read_csv(interim / 'public.csv', sep=',')\n",
    "      [['date_report', 'addr_dist_home', 'addr_ward_home', 'name_full']]\n",
    "     )\n",
    "pop = pd.read_csv(reference / 'pop_1.csv', sep=',', dtype={'id_addiv': 'str'})\n",
    "addiv = pd.read_csv(reference / 'addiv.csv', sep=',', dtype={'id_addiv': 'str', 'of_addiv': 'str'})"
   ]
  },
  {
   "cell_type": "code",
   "execution_count": 46,
   "id": "e0e494bf",
   "metadata": {},
   "outputs": [],
   "source": [
    "def preprocess_name_addiv(row):\n",
    "    s = row.upper()\n",
    "    s = unidecode.unidecode(s)\n",
    "    s = s.replace('XA', '').replace('PHUONG', '').strip()\n",
    "    return s"
   ]
  },
  {
   "cell_type": "code",
   "execution_count": 127,
   "id": "5ee02016",
   "metadata": {},
   "outputs": [],
   "source": [
    "df['dw'] = df.addr_dist_home + ' ' + df.addr_ward_home"
   ]
  },
  {
   "cell_type": "code",
   "execution_count": 107,
   "id": "a9aa7bde",
   "metadata": {},
   "outputs": [
    {
     "data": {
      "text/plain": [
       "(157, 4)"
      ]
     },
     "execution_count": 107,
     "metadata": {},
     "output_type": "execute_result"
    }
   ],
   "source": [
    "# df[df.addr_ward_home.str.startswith('XA')].shape\n",
    "# df[['addr_dist_home', 'addr_ward_home', 'dw']]\n",
    "# df[(df.addr_ward_home.str.startswith('THI TRAN')) & (df.addr_dist_home == 'QCCH')].shape\n",
    "# df.loc[(df.addr_ward_home == 'THI TRAN') & (df.addr_dist_home == 'QNBE'), 'addr_ward_home'] = 'THI TRAN NHA BE'\n",
    "# df.loc[(df.addr_ward_home == 'THI TRAN') & (df.addr_dist_home == 'QHMN'), 'addr_ward_home'] = 'THI TRAN HOC MON'\n",
    "# df.loc[(df.addr_ward_home == 'THI TRAN') & (df.addr_dist_home == 'QCCH'), 'addr_ward_home'] = 'THI TRAN CU CHI'\n",
    "# df.loc[(df.addr_ward_home == 'THI TRAN') & (df.addr_dist_home == 'QBCH'), 'addr_ward_home'] = 'THI TRAN TAN TUC'\n",
    "# df.loc[(df.addr_ward_home == 'THI TRAN') & (df.addr_dist_home == 'QCGI'), 'addr_ward_home'] = 'THI TRAN CAN THANH'"
   ]
  },
  {
   "cell_type": "code",
   "execution_count": 130,
   "id": "1de71ff5",
   "metadata": {},
   "outputs": [],
   "source": [
    "# addiv[['dw', 'id_addiv']]\n",
    "df = df.merge(addiv[['dw', 'id_addiv']], how = 'left', on= 'dw' )\n",
    "df['addr_ward_home'] = df.id_addiv\n"
   ]
  },
  {
   "cell_type": "code",
   "execution_count": 131,
   "id": "2a400c13",
   "metadata": {},
   "outputs": [
    {
     "data": {
      "text/html": [
       "<div>\n",
       "<style scoped>\n",
       "    .dataframe tbody tr th:only-of-type {\n",
       "        vertical-align: middle;\n",
       "    }\n",
       "\n",
       "    .dataframe tbody tr th {\n",
       "        vertical-align: top;\n",
       "    }\n",
       "\n",
       "    .dataframe thead th {\n",
       "        text-align: right;\n",
       "    }\n",
       "</style>\n",
       "<table border=\"1\" class=\"dataframe\">\n",
       "  <thead>\n",
       "    <tr style=\"text-align: right;\">\n",
       "      <th></th>\n",
       "      <th>date_report</th>\n",
       "      <th>addr_dist_home</th>\n",
       "      <th>addr_ward_home</th>\n",
       "      <th>name_full</th>\n",
       "      <th>dw</th>\n",
       "      <th>id_addiv_x</th>\n",
       "      <th>pop</th>\n",
       "      <th>id_addiv_y</th>\n",
       "    </tr>\n",
       "  </thead>\n",
       "  <tbody>\n",
       "    <tr>\n",
       "      <th>0</th>\n",
       "      <td>2021-07-10</td>\n",
       "      <td>QA08</td>\n",
       "      <td>QA08 15</td>\n",
       "      <td>BÙI THỊ THU</td>\n",
       "      <td>QA08 15</td>\n",
       "      <td>27427</td>\n",
       "      <td>43125.0</td>\n",
       "      <td>27427</td>\n",
       "    </tr>\n",
       "    <tr>\n",
       "      <th>1</th>\n",
       "      <td>2021-07-10</td>\n",
       "      <td>QNBE</td>\n",
       "      <td>QNBE THI TRAN NHA BE</td>\n",
       "      <td>BÙI VĂN TIẾN</td>\n",
       "      <td>QNBE THI TRAN NHA BE</td>\n",
       "      <td>27643</td>\n",
       "      <td>45524.0</td>\n",
       "      <td>27643</td>\n",
       "    </tr>\n",
       "    <tr>\n",
       "      <th>2</th>\n",
       "      <td>2021-07-10</td>\n",
       "      <td>QTPH</td>\n",
       "      <td>QTPH PHU THANH</td>\n",
       "      <td>ĐẶNG HOÀNG PHƯỚC</td>\n",
       "      <td>QTPH PHU THANH</td>\n",
       "      <td>27028</td>\n",
       "      <td>45020.0</td>\n",
       "      <td>27028</td>\n",
       "    </tr>\n",
       "    <tr>\n",
       "      <th>3</th>\n",
       "      <td>2021-07-10</td>\n",
       "      <td>QA04</td>\n",
       "      <td>QA04 2</td>\n",
       "      <td>ĐẶNG NGỌC</td>\n",
       "      <td>QA04 2</td>\n",
       "      <td>27292</td>\n",
       "      <td>10852.0</td>\n",
       "      <td>27292</td>\n",
       "    </tr>\n",
       "    <tr>\n",
       "      <th>4</th>\n",
       "      <td>2021-07-11</td>\n",
       "      <td>QPNH</td>\n",
       "      <td>QPNH 11</td>\n",
       "      <td>ĐẶNG THỊ CÚC</td>\n",
       "      <td>QPNH 11</td>\n",
       "      <td>27073</td>\n",
       "      <td>8840.0</td>\n",
       "      <td>27073</td>\n",
       "    </tr>\n",
       "    <tr>\n",
       "      <th>...</th>\n",
       "      <td>...</td>\n",
       "      <td>...</td>\n",
       "      <td>...</td>\n",
       "      <td>...</td>\n",
       "      <td>...</td>\n",
       "      <td>...</td>\n",
       "      <td>...</td>\n",
       "      <td>...</td>\n",
       "    </tr>\n",
       "    <tr>\n",
       "      <th>82139</th>\n",
       "      <td>2021-07-28</td>\n",
       "      <td>QBTN</td>\n",
       "      <td>QBTN BINH TRI DONG A</td>\n",
       "      <td>NGUYỄN NGỌC HIẾU</td>\n",
       "      <td>QBTN BINH TRI DONG A</td>\n",
       "      <td>27448</td>\n",
       "      <td>73902.0</td>\n",
       "      <td>27448</td>\n",
       "    </tr>\n",
       "    <tr>\n",
       "      <th>82140</th>\n",
       "      <td>2021-07-28</td>\n",
       "      <td>QBCH</td>\n",
       "      <td>QBCH BINH HUNG</td>\n",
       "      <td>LÊ THỊ DIỄM MY</td>\n",
       "      <td>QBCH BINH HUNG</td>\n",
       "      <td>27619</td>\n",
       "      <td>87001.0</td>\n",
       "      <td>27619</td>\n",
       "    </tr>\n",
       "    <tr>\n",
       "      <th>82141</th>\n",
       "      <td>2021-07-28</td>\n",
       "      <td>QBTN</td>\n",
       "      <td>QBTN BINH TRI DONG</td>\n",
       "      <td>NGUYỄN THỊ KIM YẾN</td>\n",
       "      <td>QBTN BINH TRI DONG</td>\n",
       "      <td>27445</td>\n",
       "      <td>83116.0</td>\n",
       "      <td>27445</td>\n",
       "    </tr>\n",
       "    <tr>\n",
       "      <th>82142</th>\n",
       "      <td>2021-07-28</td>\n",
       "      <td>QTPH</td>\n",
       "      <td>QTPH TAN SON NHI</td>\n",
       "      <td>HOÀNG THỊ THANH THẢO</td>\n",
       "      <td>QTPH TAN SON NHI</td>\n",
       "      <td>27010</td>\n",
       "      <td>43267.0</td>\n",
       "      <td>27010</td>\n",
       "    </tr>\n",
       "    <tr>\n",
       "      <th>82143</th>\n",
       "      <td>2021-07-28</td>\n",
       "      <td>QBTN</td>\n",
       "      <td>QBTN TAN TAO</td>\n",
       "      <td>NGUYỄN THỊ HUỲNH GIAO</td>\n",
       "      <td>QBTN TAN TAO</td>\n",
       "      <td>27454</td>\n",
       "      <td>74883.0</td>\n",
       "      <td>27454</td>\n",
       "    </tr>\n",
       "  </tbody>\n",
       "</table>\n",
       "<p>82144 rows × 8 columns</p>\n",
       "</div>"
      ],
      "text/plain": [
       "      date_report addr_dist_home        addr_ward_home              name_full  \\\n",
       "0      2021-07-10           QA08               QA08 15            BÙI THỊ THU   \n",
       "1      2021-07-10           QNBE  QNBE THI TRAN NHA BE           BÙI VĂN TIẾN   \n",
       "2      2021-07-10           QTPH        QTPH PHU THANH       ĐẶNG HOÀNG PHƯỚC   \n",
       "3      2021-07-10           QA04                QA04 2              ĐẶNG NGỌC   \n",
       "4      2021-07-11           QPNH               QPNH 11           ĐẶNG THỊ CÚC   \n",
       "...           ...            ...                   ...                    ...   \n",
       "82139  2021-07-28           QBTN  QBTN BINH TRI DONG A       NGUYỄN NGỌC HIẾU   \n",
       "82140  2021-07-28           QBCH        QBCH BINH HUNG         LÊ THỊ DIỄM MY   \n",
       "82141  2021-07-28           QBTN    QBTN BINH TRI DONG     NGUYỄN THỊ KIM YẾN   \n",
       "82142  2021-07-28           QTPH      QTPH TAN SON NHI   HOÀNG THỊ THANH THẢO   \n",
       "82143  2021-07-28           QBTN          QBTN TAN TAO  NGUYỄN THỊ HUỲNH GIAO   \n",
       "\n",
       "                         dw id_addiv_x      pop id_addiv_y  \n",
       "0                   QA08 15      27427  43125.0      27427  \n",
       "1      QNBE THI TRAN NHA BE      27643  45524.0      27643  \n",
       "2            QTPH PHU THANH      27028  45020.0      27028  \n",
       "3                    QA04 2      27292  10852.0      27292  \n",
       "4                   QPNH 11      27073   8840.0      27073  \n",
       "...                     ...        ...      ...        ...  \n",
       "82139  QBTN BINH TRI DONG A      27448  73902.0      27448  \n",
       "82140        QBCH BINH HUNG      27619  87001.0      27619  \n",
       "82141    QBTN BINH TRI DONG      27445  83116.0      27445  \n",
       "82142      QTPH TAN SON NHI      27010  43267.0      27010  \n",
       "82143          QBTN TAN TAO      27454  74883.0      27454  \n",
       "\n",
       "[82144 rows x 8 columns]"
      ]
     },
     "execution_count": 131,
     "metadata": {},
     "output_type": "execute_result"
    }
   ],
   "source": [
    "# addiv[addiv.id_addiv == '27010']\n",
    "df"
   ]
  }
 ],
 "metadata": {
  "kernelspec": {
   "display_name": "Python 3",
   "language": "python",
   "name": "python3"
  },
  "language_info": {
   "codemirror_mode": {
    "name": "ipython",
    "version": 3
   },
   "file_extension": ".py",
   "mimetype": "text/x-python",
   "name": "python",
   "nbconvert_exporter": "python",
   "pygments_lexer": "ipython3",
   "version": "3.8.2"
  }
 },
 "nbformat": 4,
 "nbformat_minor": 5
}
