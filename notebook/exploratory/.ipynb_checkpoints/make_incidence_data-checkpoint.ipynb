{
 "cells": [
  {
   "cell_type": "code",
   "execution_count": 170,
   "id": "9d99da52",
   "metadata": {},
   "outputs": [],
   "source": [
    "import pandas as pd\n",
    "import pathlib\n",
    "import matplotlib.pyplot as plt"
   ]
  },
  {
   "cell_type": "code",
   "execution_count": 171,
   "id": "6399e6d4",
   "metadata": {},
   "outputs": [],
   "source": [
    "interim = pathlib.Path().cwd().parent.parent / 'data' / 'interim'"
   ]
  },
  {
   "cell_type": "code",
   "execution_count": 172,
   "id": "0582f399",
   "metadata": {},
   "outputs": [
    {
     "name": "stderr",
     "output_type": "stream",
     "text": [
      "/home/kyo/.local/lib/python3.8/site-packages/IPython/core/interactiveshell.py:3145: DtypeWarning: Columns (1,8,9,10,11,13,19,20,23,25,26,27,28,29,30,33,34,35,36,39,40,41,44,49,50,51,52,55,56,57,58,61,62,63,64,67,68,69,70,73,74,75,78,81,82,83,84,85,86,87,88,89,90,91,92,95,96,99,101,105,108) have mixed types.Specify dtype option on import or set low_memory=False.\n",
      "  has_raised = await self.run_ast_nodes(code_ast.body, cell_name,\n"
     ]
    }
   ],
   "source": [
    "df = (pd.read_csv(interim / 'public-test.csv', sep=';')\n",
    "      [['date_report', 'sex', 'yob', 'addr_dist_home', 'name_full']]\n",
    "     )"
   ]
  },
  {
   "cell_type": "code",
   "execution_count": 173,
   "id": "e89688ed",
   "metadata": {},
   "outputs": [],
   "source": [
    "df = df.assign(\n",
    "    date_report = pd.to_datetime(df.date_report, errors='coerce', format='%d/%m/%Y'),\n",
    "    adult = (2021 - df.yob.astype('float')) > 18\n",
    ")"
   ]
  },
  {
   "cell_type": "code",
   "execution_count": 174,
   "id": "aaa3a18f",
   "metadata": {},
   "outputs": [],
   "source": [
    "df = df[(df.sex == 'NAM') | (df.sex == 'NỮ')]\n",
    "df = df.replace(['NAM', 'NỮ'], ['MALE', 'FEMALE'])"
   ]
  },
  {
   "cell_type": "code",
   "execution_count": 181,
   "id": "2588b73d",
   "metadata": {},
   "outputs": [
    {
     "data": {
      "text/html": [
       "<div>\n",
       "<style scoped>\n",
       "    .dataframe tbody tr th:only-of-type {\n",
       "        vertical-align: middle;\n",
       "    }\n",
       "\n",
       "    .dataframe tbody tr th {\n",
       "        vertical-align: top;\n",
       "    }\n",
       "\n",
       "    .dataframe thead th {\n",
       "        text-align: right;\n",
       "    }\n",
       "</style>\n",
       "<table border=\"1\" class=\"dataframe\">\n",
       "  <thead>\n",
       "    <tr style=\"text-align: right;\">\n",
       "      <th></th>\n",
       "      <th>date_report</th>\n",
       "      <th>sex</th>\n",
       "      <th>yob</th>\n",
       "      <th>addr_dist_home</th>\n",
       "      <th>name_full</th>\n",
       "      <th>adult</th>\n",
       "    </tr>\n",
       "  </thead>\n",
       "  <tbody>\n",
       "    <tr>\n",
       "      <th>0</th>\n",
       "      <td>2021-07-10</td>\n",
       "      <td>FEMALE</td>\n",
       "      <td>1967.0</td>\n",
       "      <td>QA08</td>\n",
       "      <td>BÙI THỊ THU</td>\n",
       "      <td>True</td>\n",
       "    </tr>\n",
       "    <tr>\n",
       "      <th>1</th>\n",
       "      <td>2021-07-10</td>\n",
       "      <td>MALE</td>\n",
       "      <td>1991.0</td>\n",
       "      <td>QNBE</td>\n",
       "      <td>BÙI VĂN TIẾN</td>\n",
       "      <td>True</td>\n",
       "    </tr>\n",
       "    <tr>\n",
       "      <th>2</th>\n",
       "      <td>2021-07-10</td>\n",
       "      <td>MALE</td>\n",
       "      <td>1994.0</td>\n",
       "      <td>QTPH</td>\n",
       "      <td>ĐẶNG HOÀNG PHƯỚC</td>\n",
       "      <td>True</td>\n",
       "    </tr>\n",
       "    <tr>\n",
       "      <th>3</th>\n",
       "      <td>2021-07-10</td>\n",
       "      <td>FEMALE</td>\n",
       "      <td>1964.0</td>\n",
       "      <td>QA04</td>\n",
       "      <td>ĐẶNG NGỌC</td>\n",
       "      <td>True</td>\n",
       "    </tr>\n",
       "    <tr>\n",
       "      <th>4</th>\n",
       "      <td>2021-07-11</td>\n",
       "      <td>FEMALE</td>\n",
       "      <td>1989.0</td>\n",
       "      <td>QPNH</td>\n",
       "      <td>ĐẶNG THỊ CÚC</td>\n",
       "      <td>True</td>\n",
       "    </tr>\n",
       "    <tr>\n",
       "      <th>...</th>\n",
       "      <td>...</td>\n",
       "      <td>...</td>\n",
       "      <td>...</td>\n",
       "      <td>...</td>\n",
       "      <td>...</td>\n",
       "      <td>...</td>\n",
       "    </tr>\n",
       "    <tr>\n",
       "      <th>22353</th>\n",
       "      <td>2021-07-14</td>\n",
       "      <td>MALE</td>\n",
       "      <td>1997.0</td>\n",
       "      <td>QTBH</td>\n",
       "      <td>BÙI ANH THY</td>\n",
       "      <td>True</td>\n",
       "    </tr>\n",
       "    <tr>\n",
       "      <th>22356</th>\n",
       "      <td>2021-07-14</td>\n",
       "      <td>FEMALE</td>\n",
       "      <td>1960.0</td>\n",
       "      <td>QBCH</td>\n",
       "      <td>ẤU BÍCH XUÂN</td>\n",
       "      <td>True</td>\n",
       "    </tr>\n",
       "    <tr>\n",
       "      <th>22357</th>\n",
       "      <td>2021-07-15</td>\n",
       "      <td>MALE</td>\n",
       "      <td>1991.0</td>\n",
       "      <td>QCCH</td>\n",
       "      <td>A GƯNH</td>\n",
       "      <td>True</td>\n",
       "    </tr>\n",
       "    <tr>\n",
       "      <th>22358</th>\n",
       "      <td>2021-07-14</td>\n",
       "      <td>MALE</td>\n",
       "      <td>1989.0</td>\n",
       "      <td>QA05</td>\n",
       "      <td>NGUYỄN CÔNG HOÀNG</td>\n",
       "      <td>True</td>\n",
       "    </tr>\n",
       "    <tr>\n",
       "      <th>22359</th>\n",
       "      <td>2021-07-14</td>\n",
       "      <td>FEMALE</td>\n",
       "      <td>1955.0</td>\n",
       "      <td>QA10</td>\n",
       "      <td>LỢI NGÂN</td>\n",
       "      <td>True</td>\n",
       "    </tr>\n",
       "  </tbody>\n",
       "</table>\n",
       "<p>22086 rows × 6 columns</p>\n",
       "</div>"
      ],
      "text/plain": [
       "      date_report     sex     yob addr_dist_home          name_full  adult\n",
       "0      2021-07-10  FEMALE  1967.0           QA08        BÙI THỊ THU   True\n",
       "1      2021-07-10    MALE  1991.0           QNBE       BÙI VĂN TIẾN   True\n",
       "2      2021-07-10    MALE  1994.0           QTPH   ĐẶNG HOÀNG PHƯỚC   True\n",
       "3      2021-07-10  FEMALE  1964.0           QA04          ĐẶNG NGỌC   True\n",
       "4      2021-07-11  FEMALE  1989.0           QPNH       ĐẶNG THỊ CÚC   True\n",
       "...           ...     ...     ...            ...                ...    ...\n",
       "22353  2021-07-14    MALE  1997.0           QTBH        BÙI ANH THY   True\n",
       "22356  2021-07-14  FEMALE  1960.0           QBCH       ẤU BÍCH XUÂN   True\n",
       "22357  2021-07-15    MALE  1991.0           QCCH             A GƯNH   True\n",
       "22358  2021-07-14    MALE  1989.0           QA05  NGUYỄN CÔNG HOÀNG   True\n",
       "22359  2021-07-14  FEMALE  1955.0           QA10           LỢI NGÂN   True\n",
       "\n",
       "[22086 rows x 6 columns]"
      ]
     },
     "execution_count": 181,
     "metadata": {},
     "output_type": "execute_result"
    }
   ],
   "source": [
    "df"
   ]
  },
  {
   "cell_type": "code",
   "execution_count": 182,
   "id": "6ba825c9",
   "metadata": {},
   "outputs": [],
   "source": [
    "inc = (\n",
    "    df[['date_report']]\n",
    "    .groupby(['date_report'])\n",
    "    .apply(lambda x: len(x))\n",
    "    .to_frame(name='case')\n",
    "    .reindex(pd.date_range(start=inc.index.min(), end=inc.index.max(), freq='D'))\n",
    "    .fillna(0)\n",
    "      )\n",
    "inc['case_rm'] = inc.case.rolling(7).mean()\n",
    "# inc['case_rs'] = inc.case.rolling(7).sum()\n",
    "\n",
    "# inc['case_rs'] = inc.rolling(7).sum()"
   ]
  },
  {
   "cell_type": "code",
   "execution_count": 184,
   "id": "e9701218",
   "metadata": {},
   "outputs": [],
   "source": [
    "def calculate_incidence(df, group_col, roll_mean=False, pivot=True):\n",
    "    inc = (\n",
    "        df[['date_report', group_col]]\n",
    "        .groupby(['date_report', group_col])\n",
    "        .apply(lambda x: len(x))\n",
    "        .to_frame(name='case')\n",
    "        .unstack(fill_value=0)\n",
    "        .asfreq('D', fill_value=0)\n",
    "        .stack()\n",
    "        .sort_index(level=0)\n",
    "        .reset_index(1)\n",
    "    )\n",
    "    \n",
    "    if roll_mean:\n",
    "        inc['case_rm'] = (\n",
    "            inc.groupby(group_col)['case']\n",
    "            .transform(lambda x: x.rolling(7).mean())\n",
    "        )\n",
    "\n",
    "    inc = inc.reset_index(0)\n",
    "    \n",
    "    if pivot:\n",
    "        inc = inc.pivot(index='date_report', columns=group_col, values=['case'])\n",
    "#         col = inc[group_col].unique()\n",
    "#         inc.columns = col\n",
    "        \n",
    "    return inc"
   ]
  },
  {
   "cell_type": "code",
   "execution_count": 185,
   "id": "2c7dace4",
   "metadata": {},
   "outputs": [
    {
     "ename": "KeyError",
     "evalue": "'sex'",
     "output_type": "error",
     "traceback": [
      "\u001b[0;31m---------------------------------------------------------------------------\u001b[0m",
      "\u001b[0;31mKeyError\u001b[0m                                  Traceback (most recent call last)",
      "\u001b[0;32m~/anaconda3/lib/python3.8/site-packages/pandas/core/indexes/base.py\u001b[0m in \u001b[0;36mget_loc\u001b[0;34m(self, key, method, tolerance)\u001b[0m\n\u001b[1;32m   3079\u001b[0m             \u001b[0;32mtry\u001b[0m\u001b[0;34m:\u001b[0m\u001b[0;34m\u001b[0m\u001b[0;34m\u001b[0m\u001b[0m\n\u001b[0;32m-> 3080\u001b[0;31m                 \u001b[0;32mreturn\u001b[0m \u001b[0mself\u001b[0m\u001b[0;34m.\u001b[0m\u001b[0m_engine\u001b[0m\u001b[0;34m.\u001b[0m\u001b[0mget_loc\u001b[0m\u001b[0;34m(\u001b[0m\u001b[0mcasted_key\u001b[0m\u001b[0;34m)\u001b[0m\u001b[0;34m\u001b[0m\u001b[0;34m\u001b[0m\u001b[0m\n\u001b[0m\u001b[1;32m   3081\u001b[0m             \u001b[0;32mexcept\u001b[0m \u001b[0mKeyError\u001b[0m \u001b[0;32mas\u001b[0m \u001b[0merr\u001b[0m\u001b[0;34m:\u001b[0m\u001b[0;34m\u001b[0m\u001b[0;34m\u001b[0m\u001b[0m\n",
      "\u001b[0;32mpandas/_libs/index.pyx\u001b[0m in \u001b[0;36mpandas._libs.index.IndexEngine.get_loc\u001b[0;34m()\u001b[0m\n",
      "\u001b[0;32mpandas/_libs/index.pyx\u001b[0m in \u001b[0;36mpandas._libs.index.IndexEngine.get_loc\u001b[0;34m()\u001b[0m\n",
      "\u001b[0;32mpandas/_libs/hashtable_class_helper.pxi\u001b[0m in \u001b[0;36mpandas._libs.hashtable.PyObjectHashTable.get_item\u001b[0;34m()\u001b[0m\n",
      "\u001b[0;32mpandas/_libs/hashtable_class_helper.pxi\u001b[0m in \u001b[0;36mpandas._libs.hashtable.PyObjectHashTable.get_item\u001b[0;34m()\u001b[0m\n",
      "\u001b[0;31mKeyError\u001b[0m: 'sex'",
      "\nThe above exception was the direct cause of the following exception:\n",
      "\u001b[0;31mKeyError\u001b[0m                                  Traceback (most recent call last)",
      "\u001b[0;32m<ipython-input-185-3d7b54fd7cb4>\u001b[0m in \u001b[0;36m<module>\u001b[0;34m\u001b[0m\n\u001b[1;32m      8\u001b[0m     \u001b[0;34m.\u001b[0m\u001b[0mreset_index\u001b[0m\u001b[0;34m(\u001b[0m\u001b[0;34m)\u001b[0m\u001b[0;34m\u001b[0m\u001b[0;34m\u001b[0m\u001b[0m\n\u001b[1;32m      9\u001b[0m )\n\u001b[0;32m---> 10\u001b[0;31m \u001b[0minc_sex\u001b[0m \u001b[0;34m=\u001b[0m \u001b[0mcalculate_incidence\u001b[0m\u001b[0;34m(\u001b[0m\u001b[0mdf\u001b[0m\u001b[0;34m,\u001b[0m \u001b[0;34m'sex'\u001b[0m\u001b[0;34m,\u001b[0m \u001b[0mroll_mean\u001b[0m\u001b[0;34m=\u001b[0m\u001b[0;32mFalse\u001b[0m\u001b[0;34m,\u001b[0m \u001b[0mpivot\u001b[0m\u001b[0;34m=\u001b[0m\u001b[0;32mTrue\u001b[0m\u001b[0;34m)\u001b[0m\u001b[0;34m\u001b[0m\u001b[0;34m\u001b[0m\u001b[0m\n\u001b[0m\u001b[1;32m     11\u001b[0m \u001b[0minc_adult\u001b[0m \u001b[0;34m=\u001b[0m \u001b[0mcalculate_incidence\u001b[0m\u001b[0;34m(\u001b[0m\u001b[0mdf\u001b[0m\u001b[0;34m,\u001b[0m \u001b[0;34m'adult'\u001b[0m\u001b[0;34m,\u001b[0m \u001b[0mroll_mean\u001b[0m\u001b[0;34m=\u001b[0m\u001b[0;32mFalse\u001b[0m\u001b[0;34m,\u001b[0m \u001b[0mpivot\u001b[0m\u001b[0;34m=\u001b[0m\u001b[0;32mTrue\u001b[0m\u001b[0;34m)\u001b[0m\u001b[0;34m\u001b[0m\u001b[0;34m\u001b[0m\u001b[0m\n",
      "\u001b[0;32m<ipython-input-184-c869b95ee668>\u001b[0m in \u001b[0;36mcalculate_incidence\u001b[0;34m(df, group_col, roll_mean, pivot)\u001b[0m\n\u001b[1;32m     23\u001b[0m     \u001b[0;32mif\u001b[0m \u001b[0mpivot\u001b[0m\u001b[0;34m:\u001b[0m\u001b[0;34m\u001b[0m\u001b[0;34m\u001b[0m\u001b[0m\n\u001b[1;32m     24\u001b[0m         \u001b[0minc\u001b[0m \u001b[0;34m=\u001b[0m \u001b[0minc\u001b[0m\u001b[0;34m.\u001b[0m\u001b[0mpivot\u001b[0m\u001b[0;34m(\u001b[0m\u001b[0mindex\u001b[0m\u001b[0;34m=\u001b[0m\u001b[0;34m'date_report'\u001b[0m\u001b[0;34m,\u001b[0m \u001b[0mcolumns\u001b[0m\u001b[0;34m=\u001b[0m\u001b[0mgroup_col\u001b[0m\u001b[0;34m,\u001b[0m \u001b[0mvalues\u001b[0m\u001b[0;34m=\u001b[0m\u001b[0;34m[\u001b[0m\u001b[0;34m'case'\u001b[0m\u001b[0;34m]\u001b[0m\u001b[0;34m)\u001b[0m\u001b[0;34m\u001b[0m\u001b[0;34m\u001b[0m\u001b[0m\n\u001b[0;32m---> 25\u001b[0;31m         \u001b[0mcol\u001b[0m \u001b[0;34m=\u001b[0m \u001b[0minc\u001b[0m\u001b[0;34m[\u001b[0m\u001b[0mgroup_col\u001b[0m\u001b[0;34m]\u001b[0m\u001b[0;34m.\u001b[0m\u001b[0munique\u001b[0m\u001b[0;34m(\u001b[0m\u001b[0;34m)\u001b[0m\u001b[0;34m\u001b[0m\u001b[0;34m\u001b[0m\u001b[0m\n\u001b[0m\u001b[1;32m     26\u001b[0m         \u001b[0minc\u001b[0m\u001b[0;34m.\u001b[0m\u001b[0mcolumns\u001b[0m \u001b[0;34m=\u001b[0m \u001b[0mcol\u001b[0m\u001b[0;34m\u001b[0m\u001b[0;34m\u001b[0m\u001b[0m\n\u001b[1;32m     27\u001b[0m \u001b[0;34m\u001b[0m\u001b[0m\n",
      "\u001b[0;32m~/anaconda3/lib/python3.8/site-packages/pandas/core/frame.py\u001b[0m in \u001b[0;36m__getitem__\u001b[0;34m(self, key)\u001b[0m\n\u001b[1;32m   3021\u001b[0m         \u001b[0;32mif\u001b[0m \u001b[0mis_single_key\u001b[0m\u001b[0;34m:\u001b[0m\u001b[0;34m\u001b[0m\u001b[0;34m\u001b[0m\u001b[0m\n\u001b[1;32m   3022\u001b[0m             \u001b[0;32mif\u001b[0m \u001b[0mself\u001b[0m\u001b[0;34m.\u001b[0m\u001b[0mcolumns\u001b[0m\u001b[0;34m.\u001b[0m\u001b[0mnlevels\u001b[0m \u001b[0;34m>\u001b[0m \u001b[0;36m1\u001b[0m\u001b[0;34m:\u001b[0m\u001b[0;34m\u001b[0m\u001b[0;34m\u001b[0m\u001b[0m\n\u001b[0;32m-> 3023\u001b[0;31m                 \u001b[0;32mreturn\u001b[0m \u001b[0mself\u001b[0m\u001b[0;34m.\u001b[0m\u001b[0m_getitem_multilevel\u001b[0m\u001b[0;34m(\u001b[0m\u001b[0mkey\u001b[0m\u001b[0;34m)\u001b[0m\u001b[0;34m\u001b[0m\u001b[0;34m\u001b[0m\u001b[0m\n\u001b[0m\u001b[1;32m   3024\u001b[0m             \u001b[0mindexer\u001b[0m \u001b[0;34m=\u001b[0m \u001b[0mself\u001b[0m\u001b[0;34m.\u001b[0m\u001b[0mcolumns\u001b[0m\u001b[0;34m.\u001b[0m\u001b[0mget_loc\u001b[0m\u001b[0;34m(\u001b[0m\u001b[0mkey\u001b[0m\u001b[0;34m)\u001b[0m\u001b[0;34m\u001b[0m\u001b[0;34m\u001b[0m\u001b[0m\n\u001b[1;32m   3025\u001b[0m             \u001b[0;32mif\u001b[0m \u001b[0mis_integer\u001b[0m\u001b[0;34m(\u001b[0m\u001b[0mindexer\u001b[0m\u001b[0;34m)\u001b[0m\u001b[0;34m:\u001b[0m\u001b[0;34m\u001b[0m\u001b[0;34m\u001b[0m\u001b[0m\n",
      "\u001b[0;32m~/anaconda3/lib/python3.8/site-packages/pandas/core/frame.py\u001b[0m in \u001b[0;36m_getitem_multilevel\u001b[0;34m(self, key)\u001b[0m\n\u001b[1;32m   3072\u001b[0m     \u001b[0;32mdef\u001b[0m \u001b[0m_getitem_multilevel\u001b[0m\u001b[0;34m(\u001b[0m\u001b[0mself\u001b[0m\u001b[0;34m,\u001b[0m \u001b[0mkey\u001b[0m\u001b[0;34m)\u001b[0m\u001b[0;34m:\u001b[0m\u001b[0;34m\u001b[0m\u001b[0;34m\u001b[0m\u001b[0m\n\u001b[1;32m   3073\u001b[0m         \u001b[0;31m# self.columns is a MultiIndex\u001b[0m\u001b[0;34m\u001b[0m\u001b[0;34m\u001b[0m\u001b[0;34m\u001b[0m\u001b[0m\n\u001b[0;32m-> 3074\u001b[0;31m         \u001b[0mloc\u001b[0m \u001b[0;34m=\u001b[0m \u001b[0mself\u001b[0m\u001b[0;34m.\u001b[0m\u001b[0mcolumns\u001b[0m\u001b[0;34m.\u001b[0m\u001b[0mget_loc\u001b[0m\u001b[0;34m(\u001b[0m\u001b[0mkey\u001b[0m\u001b[0;34m)\u001b[0m\u001b[0;34m\u001b[0m\u001b[0;34m\u001b[0m\u001b[0m\n\u001b[0m\u001b[1;32m   3075\u001b[0m         \u001b[0;32mif\u001b[0m \u001b[0misinstance\u001b[0m\u001b[0;34m(\u001b[0m\u001b[0mloc\u001b[0m\u001b[0;34m,\u001b[0m \u001b[0;34m(\u001b[0m\u001b[0mslice\u001b[0m\u001b[0;34m,\u001b[0m \u001b[0mnp\u001b[0m\u001b[0;34m.\u001b[0m\u001b[0mndarray\u001b[0m\u001b[0;34m)\u001b[0m\u001b[0;34m)\u001b[0m\u001b[0;34m:\u001b[0m\u001b[0;34m\u001b[0m\u001b[0;34m\u001b[0m\u001b[0m\n\u001b[1;32m   3076\u001b[0m             \u001b[0mnew_columns\u001b[0m \u001b[0;34m=\u001b[0m \u001b[0mself\u001b[0m\u001b[0;34m.\u001b[0m\u001b[0mcolumns\u001b[0m\u001b[0;34m[\u001b[0m\u001b[0mloc\u001b[0m\u001b[0;34m]\u001b[0m\u001b[0;34m\u001b[0m\u001b[0;34m\u001b[0m\u001b[0m\n",
      "\u001b[0;32m~/anaconda3/lib/python3.8/site-packages/pandas/core/indexes/multi.py\u001b[0m in \u001b[0;36mget_loc\u001b[0;34m(self, key, method)\u001b[0m\n\u001b[1;32m   2874\u001b[0m \u001b[0;34m\u001b[0m\u001b[0m\n\u001b[1;32m   2875\u001b[0m         \u001b[0;32mif\u001b[0m \u001b[0;32mnot\u001b[0m \u001b[0misinstance\u001b[0m\u001b[0;34m(\u001b[0m\u001b[0mkey\u001b[0m\u001b[0;34m,\u001b[0m \u001b[0mtuple\u001b[0m\u001b[0;34m)\u001b[0m\u001b[0;34m:\u001b[0m\u001b[0;34m\u001b[0m\u001b[0;34m\u001b[0m\u001b[0m\n\u001b[0;32m-> 2876\u001b[0;31m             \u001b[0mloc\u001b[0m \u001b[0;34m=\u001b[0m \u001b[0mself\u001b[0m\u001b[0;34m.\u001b[0m\u001b[0m_get_level_indexer\u001b[0m\u001b[0;34m(\u001b[0m\u001b[0mkey\u001b[0m\u001b[0;34m,\u001b[0m \u001b[0mlevel\u001b[0m\u001b[0;34m=\u001b[0m\u001b[0;36m0\u001b[0m\u001b[0;34m)\u001b[0m\u001b[0;34m\u001b[0m\u001b[0;34m\u001b[0m\u001b[0m\n\u001b[0m\u001b[1;32m   2877\u001b[0m             \u001b[0;32mreturn\u001b[0m \u001b[0m_maybe_to_slice\u001b[0m\u001b[0;34m(\u001b[0m\u001b[0mloc\u001b[0m\u001b[0;34m)\u001b[0m\u001b[0;34m\u001b[0m\u001b[0;34m\u001b[0m\u001b[0m\n\u001b[1;32m   2878\u001b[0m \u001b[0;34m\u001b[0m\u001b[0m\n",
      "\u001b[0;32m~/anaconda3/lib/python3.8/site-packages/pandas/core/indexes/multi.py\u001b[0m in \u001b[0;36m_get_level_indexer\u001b[0;34m(self, key, level, indexer)\u001b[0m\n\u001b[1;32m   3156\u001b[0m         \u001b[0;32melse\u001b[0m\u001b[0;34m:\u001b[0m\u001b[0;34m\u001b[0m\u001b[0;34m\u001b[0m\u001b[0m\n\u001b[1;32m   3157\u001b[0m \u001b[0;34m\u001b[0m\u001b[0m\n\u001b[0;32m-> 3158\u001b[0;31m             \u001b[0midx\u001b[0m \u001b[0;34m=\u001b[0m \u001b[0mself\u001b[0m\u001b[0;34m.\u001b[0m\u001b[0m_get_loc_single_level_index\u001b[0m\u001b[0;34m(\u001b[0m\u001b[0mlevel_index\u001b[0m\u001b[0;34m,\u001b[0m \u001b[0mkey\u001b[0m\u001b[0;34m)\u001b[0m\u001b[0;34m\u001b[0m\u001b[0;34m\u001b[0m\u001b[0m\n\u001b[0m\u001b[1;32m   3159\u001b[0m \u001b[0;34m\u001b[0m\u001b[0m\n\u001b[1;32m   3160\u001b[0m             \u001b[0;32mif\u001b[0m \u001b[0mlevel\u001b[0m \u001b[0;34m>\u001b[0m \u001b[0;36m0\u001b[0m \u001b[0;32mor\u001b[0m \u001b[0mself\u001b[0m\u001b[0;34m.\u001b[0m\u001b[0mlexsort_depth\u001b[0m \u001b[0;34m==\u001b[0m \u001b[0;36m0\u001b[0m\u001b[0;34m:\u001b[0m\u001b[0;34m\u001b[0m\u001b[0;34m\u001b[0m\u001b[0m\n",
      "\u001b[0;32m~/anaconda3/lib/python3.8/site-packages/pandas/core/indexes/multi.py\u001b[0m in \u001b[0;36m_get_loc_single_level_index\u001b[0;34m(self, level_index, key)\u001b[0m\n\u001b[1;32m   2807\u001b[0m             \u001b[0;32mreturn\u001b[0m \u001b[0;34m-\u001b[0m\u001b[0;36m1\u001b[0m\u001b[0;34m\u001b[0m\u001b[0;34m\u001b[0m\u001b[0m\n\u001b[1;32m   2808\u001b[0m         \u001b[0;32melse\u001b[0m\u001b[0;34m:\u001b[0m\u001b[0;34m\u001b[0m\u001b[0;34m\u001b[0m\u001b[0m\n\u001b[0;32m-> 2809\u001b[0;31m             \u001b[0;32mreturn\u001b[0m \u001b[0mlevel_index\u001b[0m\u001b[0;34m.\u001b[0m\u001b[0mget_loc\u001b[0m\u001b[0;34m(\u001b[0m\u001b[0mkey\u001b[0m\u001b[0;34m)\u001b[0m\u001b[0;34m\u001b[0m\u001b[0;34m\u001b[0m\u001b[0m\n\u001b[0m\u001b[1;32m   2810\u001b[0m \u001b[0;34m\u001b[0m\u001b[0m\n\u001b[1;32m   2811\u001b[0m     \u001b[0;32mdef\u001b[0m \u001b[0mget_loc\u001b[0m\u001b[0;34m(\u001b[0m\u001b[0mself\u001b[0m\u001b[0;34m,\u001b[0m \u001b[0mkey\u001b[0m\u001b[0;34m,\u001b[0m \u001b[0mmethod\u001b[0m\u001b[0;34m=\u001b[0m\u001b[0;32mNone\u001b[0m\u001b[0;34m)\u001b[0m\u001b[0;34m:\u001b[0m\u001b[0;34m\u001b[0m\u001b[0;34m\u001b[0m\u001b[0m\n",
      "\u001b[0;32m~/anaconda3/lib/python3.8/site-packages/pandas/core/indexes/base.py\u001b[0m in \u001b[0;36mget_loc\u001b[0;34m(self, key, method, tolerance)\u001b[0m\n\u001b[1;32m   3080\u001b[0m                 \u001b[0;32mreturn\u001b[0m \u001b[0mself\u001b[0m\u001b[0;34m.\u001b[0m\u001b[0m_engine\u001b[0m\u001b[0;34m.\u001b[0m\u001b[0mget_loc\u001b[0m\u001b[0;34m(\u001b[0m\u001b[0mcasted_key\u001b[0m\u001b[0;34m)\u001b[0m\u001b[0;34m\u001b[0m\u001b[0;34m\u001b[0m\u001b[0m\n\u001b[1;32m   3081\u001b[0m             \u001b[0;32mexcept\u001b[0m \u001b[0mKeyError\u001b[0m \u001b[0;32mas\u001b[0m \u001b[0merr\u001b[0m\u001b[0;34m:\u001b[0m\u001b[0;34m\u001b[0m\u001b[0;34m\u001b[0m\u001b[0m\n\u001b[0;32m-> 3082\u001b[0;31m                 \u001b[0;32mraise\u001b[0m \u001b[0mKeyError\u001b[0m\u001b[0;34m(\u001b[0m\u001b[0mkey\u001b[0m\u001b[0;34m)\u001b[0m \u001b[0;32mfrom\u001b[0m \u001b[0merr\u001b[0m\u001b[0;34m\u001b[0m\u001b[0;34m\u001b[0m\u001b[0m\n\u001b[0m\u001b[1;32m   3083\u001b[0m \u001b[0;34m\u001b[0m\u001b[0m\n\u001b[1;32m   3084\u001b[0m         \u001b[0;32mif\u001b[0m \u001b[0mtolerance\u001b[0m \u001b[0;32mis\u001b[0m \u001b[0;32mnot\u001b[0m \u001b[0;32mNone\u001b[0m\u001b[0;34m:\u001b[0m\u001b[0;34m\u001b[0m\u001b[0;34m\u001b[0m\u001b[0m\n",
      "\u001b[0;31mKeyError\u001b[0m: 'sex'"
     ]
    }
   ],
   "source": [
    "inc_adh_rollmean = calculate_incidence(df, 'addr_dist_home', roll_mean=True, pivot=False)\n",
    "inc_adh_cumsum = (\n",
    "    calculate_incidence(df, 'addr_dist_home', roll_mean=False, pivot=False)\n",
    "    .groupby(['addr_dist_home', 'date_report'])\n",
    "    .sum()\n",
    "    .groupby(level=0)\n",
    "    .cumsum()\n",
    "    .reset_index()\n",
    ")\n",
    "inc_sex = calculate_incidence(df, 'sex', roll_mean=False, pivot=True)\n",
    "inc_adult = calculate_incidence(df, 'adult', roll_mean=False, pivot=True)"
   ]
  },
  {
   "cell_type": "code",
   "execution_count": null,
   "id": "56bee78e",
   "metadata": {},
   "outputs": [],
   "source": [
    "# inc_adh_cumsum[inc_adh_cumsum.addr_dist_home == 'QA08']\n"
   ]
  },
  {
   "cell_type": "code",
   "execution_count": null,
   "id": "6cce384c",
   "metadata": {},
   "outputs": [],
   "source": [
    "inc_sex = (df[['date_report', 'sex']]\n",
    "           [(df.sex == 'NAM') | (df.sex == 'NỮ')]\n",
    "           .groupby(['date_report', 'sex'])\n",
    "           .apply(lambda x: len(x))\n",
    "           .to_frame(name='case')\n",
    "          )\n",
    "\n",
    "inc_sex = inc_sex.reset_index()\n",
    "inc_sex = inc_sex.pivot(index='date_report', columns='sex', values='case')\n",
    "inc_sex.columns = ['male', 'female']"
   ]
  },
  {
   "cell_type": "code",
   "execution_count": null,
   "id": "e52cedfb",
   "metadata": {},
   "outputs": [],
   "source": [
    "inc_adult = (df[['date_report', 'adult']]\n",
    "           .groupby(['date_report', 'adult'])\n",
    "           .apply(lambda x: len(x))\n",
    "           .to_frame(name='case')\n",
    "          )\n",
    "\n",
    "inc_adult = inc_adult.reset_index()\n",
    "inc_adult = inc_adult.pivot(index='date_report', columns='adult', values='case')\n",
    "inc_adult.columns = ['gt18', 'lte18']"
   ]
  },
  {
   "cell_type": "code",
   "execution_count": null,
   "id": "71f6d538",
   "metadata": {},
   "outputs": [],
   "source": [
    "fig, ax = plt.subplots(figsize=(12,6))\n",
    "# ax.bar(inc.index, inc.case, label='Số ca mới theo ngày', linewidth=3, color='gray')\n",
    "ax.bar(inc_sex.index, inc_sex.male, label='Nam', color='blue', alpha=0.4)\n",
    "ax.bar(inc_sex.index, inc_sex.female, bottom=inc_sex.male, label='Nữ', color='red', alpha=0.4)\n",
    "ax.plot(inc.index, inc.case_rm, label='Biến động trung bình 7 ngày', linewidth=3, color='black')\n",
    "# ax.plot(inc_sex.index, inc_sex.male, label='Nam', linewidth=2, color='blue')\n",
    "# ax.plot(inc_sex.index, inc_sex.female, label='Nữ', linewidth=2, color='red')\n",
    "ax.set_ylabel('Số ca mới')\n",
    "ax.set_xlabel('Ngày')\n",
    "ax.set_xticks(inc.index)\n",
    "ax.tick_params(axis='x', labelrotation=90)\n",
    "ax.set_title('Số ca mới theo ngày và biến động trung bình 7 ngày')\n",
    "ax.legend()"
   ]
  },
  {
   "cell_type": "code",
   "execution_count": null,
   "id": "3555e92b",
   "metadata": {},
   "outputs": [],
   "source": [
    "fig, ax = plt.subplots(figsize=(12,6))\n",
    "ax.bar(inc.index, inc.case, label='Số ca mới theo ngày', linewidth=3, color='gray')\n",
    "ax.plot(inc.index, inc.case_rm, label='Biến động trung bình 7 ngày', linewidth=3, color='black')\n",
    "ax.plot(inc_adult.index, inc_adult.gt18, label='> 18', linewidth=2, color='blue')\n",
    "ax.plot(inc_adult.index, inc_adult.lte18, label='<= 18', linewidth=2, color='red')\n",
    "ax.set_ylabel('Số ca mới')\n",
    "ax.set_xlabel('Ngày')\n",
    "ax.set_xticks(inc.index)\n",
    "ax.tick_params(axis='x', labelrotation=90)\n",
    "ax.set_title('Số ca mới theo ngày và biến động trung bình 7 ngày')\n",
    "ax.legend()"
   ]
  },
  {
   "cell_type": "code",
   "execution_count": null,
   "id": "499afe61",
   "metadata": {},
   "outputs": [],
   "source": [
    "inc"
   ]
  }
 ],
 "metadata": {
  "kernelspec": {
   "display_name": "Python 3",
   "language": "python",
   "name": "python3"
  },
  "language_info": {
   "codemirror_mode": {
    "name": "ipython",
    "version": 3
   },
   "file_extension": ".py",
   "mimetype": "text/x-python",
   "name": "python",
   "nbconvert_exporter": "python",
   "pygments_lexer": "ipython3",
   "version": "3.8.2"
  }
 },
 "nbformat": 4,
 "nbformat_minor": 5
}
